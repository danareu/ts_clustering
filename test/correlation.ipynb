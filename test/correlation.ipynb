{
 "cells": [
  {
   "cell_type": "code",
   "execution_count": 1,
   "metadata": {},
   "outputs": [
    {
     "name": "stderr",
     "output_type": "stream",
     "text": [
      "\u001b[32m\u001b[1m  Activating\u001b[22m\u001b[39m project at `~/git/Clustering`\n"
     ]
    }
   ],
   "source": [
    "using Pkg\n",
    "include(\"/cluster/home/danare/git/Clustering/TSClustering.jl\")\n",
    "cd(\"/cluster/home/danare/git/Clustering\")\n",
    "Pkg.activate(\".\")\n",
    "using .TSClustering\n",
    "using Distances\n",
    "using Clustering\n",
    "using DelimitedFiles\n",
    "using DataFrames\n",
    "using DynamicAxisWarping\n",
    "using Dates\n",
    "using Statistics\n",
    "using CSV\n",
    "using PlotlyJS\n"
   ]
  },
  {
   "cell_type": "code",
   "execution_count": 2,
   "metadata": {},
   "outputs": [],
   "source": [
    "# config\n",
    "path = \"/cluster/home/danare/git/GENeSYS_MOD.data/Output/output_excel/Timeseries.xlsx\"\n",
    "config = \"/cluster/home/danare/git/Clustering/data/config2.yml\"\n",
    "K = [6]\n",
    "W = Dict(\n",
    "    \"Euclidean\" => 0,\n",
    "    \"DTW (10)\"  => 10,\n",
    ");\n",
    "\n",
    "# empty DataFrame\n",
    "\n",
    "# read in data\n",
    "config = TSClustering.read_yaml_file(file=config);\n",
    "data_org = TSClustering.read_data(path=path, config=config)"
   ]
  },
  {
   "cell_type": "markdown",
   "metadata": {},
   "source": [
    "## Correlation between different regions"
   ]
  },
  {
   "cell_type": "code",
   "execution_count": 3,
   "metadata": {},
   "outputs": [],
   "source": [
    "data_org"
   ]
  },
  {
   "cell_type": "code",
   "execution_count": 3,
   "metadata": {},
   "outputs": [
    {
     "data": {
      "application/vnd.plotly.v1+json": {
       "config": {
        "editable": false,
        "responsive": true,
        "scrollZoom": true,
        "showLink": false,
        "staticPlot": false
       },
       "data": [
        {
         "colorscale": "PdBu",
         "showscale": true,
         "transpose": true,
         "type": "heatmap",
         "x": [
          "DE",
          "NL",
          "UK",
          "BE",
          "SE",
          "NO",
          "FI",
          "DK"
         ],
         "xaxis": "x",
         "y": [
          "DE",
          "NL",
          "UK",
          "BE",
          "SE",
          "NO",
          "FI",
          "DK"
         ],
         "yaxis": "y",
         "z": [
          [
           1,
           0.31986715643859165,
           -0.1953097772677512,
           0.31986715643859165,
           -0.21118226681866695,
           -0.07227614703721573,
           0.32228612572978366,
           1
          ],
          [
           0.31986715643859165,
           1,
           0.26776376082402614,
           1,
           0.23069616562261833,
           -0.31205967218545133,
           0.4297010345565858,
           0.31986715643859165
          ],
          [
           -0.1953097772677512,
           0.26776376082402614,
           1,
           0.26776376082402614,
           0.37789136091974695,
           -0.6260132358182733,
           0.208480688494011,
           -0.1953097772677512
          ],
          [
           0.31986715643859165,
           1,
           0.26776376082402614,
           1,
           0.23069616562261833,
           -0.31205967218545133,
           0.4297010345565858,
           0.31986715643859165
          ],
          [
           -0.21118226681866695,
           0.23069616562261833,
           0.37789136091974695,
           0.23069616562261833,
           1,
           -0.6780537723438722,
           0.43417598926705026,
           -0.21118226681866695
          ],
          [
           -0.07227614703721573,
           -0.31205967218545133,
           -0.6260132358182733,
           -0.31205967218545133,
           -0.6780537723438722,
           1,
           -0.5005476652395766,
           -0.07227614703721573
          ],
          [
           0.32228612572978366,
           0.4297010345565858,
           0.208480688494011,
           0.4297010345565858,
           0.43417598926705026,
           -0.5005476652395766,
           1,
           0.32228612572978366
          ],
          [
           1,
           0.31986715643859165,
           -0.1953097772677512,
           0.31986715643859165,
           -0.21118226681866695,
           -0.07227614703721573,
           0.32228612572978366,
           1
          ]
         ]
        },
        {
         "colorscale": "PdBu",
         "showscale": false,
         "transpose": true,
         "type": "heatmap",
         "x": [
          "DE",
          "NL",
          "UK",
          "BE",
          "SE",
          "NO",
          "FI",
          "DK"
         ],
         "xaxis": "x2",
         "y": [
          "DE",
          "NL",
          "UK",
          "BE",
          "SE",
          "NO",
          "FI",
          "DK"
         ],
         "yaxis": "y2",
         "z": [
          [
           1,
           0.6792551916946253,
           0.3355759541547137,
           0.10300943832456129,
           0.015883552535378213,
           0.28442693354320414,
           0.06015942834635763,
           0.5102690229825775
          ],
          [
           0.6792551916946253,
           1,
           0.39444574528262927,
           0.149810989336485,
           0.0442949837324419,
           0.2609676110431788,
           0.12311772575481682,
           0.29771268245543653
          ],
          [
           0.3355759541547137,
           0.39444574528262927,
           1,
           0.08850032829864139,
           0.10690848814365102,
           0.36149508449697887,
           0.11565838297459612,
           0.23798273582381782
          ],
          [
           0.10300943832456129,
           0.149810989336485,
           0.08850032829864139,
           1,
           0.00954692906196691,
           0.09069588754465963,
           0.037845172838915246,
           0.07528249953139105
          ],
          [
           0.015883552535378213,
           0.0442949837324419,
           0.10690848814365102,
           0.00954692906196691,
           1,
           0.06338743141757207,
           0.394402045290461,
           0.008637730905196195
          ],
          [
           0.28442693354320414,
           0.2609676110431788,
           0.36149508449697887,
           0.09069588754465963,
           0.06338743141757207,
           1,
           0.03201544484915545,
           0.3751342129661835
          ],
          [
           0.06015942834635763,
           0.12311772575481682,
           0.11565838297459612,
           0.037845172838915246,
           0.394402045290461,
           0.03201544484915545,
           1,
           -0.05054785433501387
          ],
          [
           0.5102690229825775,
           0.29771268245543653,
           0.23798273582381782,
           0.07528249953139105,
           0.008637730905196195,
           0.3751342129661835,
           -0.05054785433501387,
           1
          ]
         ]
        },
        {
         "colorscale": "PdBu",
         "showscale": false,
         "transpose": true,
         "type": "heatmap",
         "x": [
          "DE",
          "NL",
          "UK",
          "BE",
          "SE",
          "NO",
          "FI",
          "DK"
         ],
         "xaxis": "x3",
         "y": [
          "DE",
          "NL",
          "UK",
          "BE",
          "SE",
          "NO",
          "FI",
          "DK"
         ],
         "yaxis": "y3",
         "z": [
          [
           1,
           0.0323540082033415,
           0.0444966836041191,
           0.0632124353815241,
           0.1439640751374973,
           0.14065293040662658,
           0.1096507586446559,
           0.10458258213296258
          ],
          [
           0.0323540082033415,
           1,
           0.692836296871637,
           0.9197905089944683,
           0.2877507122936114,
           0.2290616115560481,
           0.14526722106462936,
           0.5623111505780155
          ],
          [
           0.0444966836041191,
           0.692836296871637,
           1,
           0.6867689391309566,
           0.27340542517724714,
           0.3384827243706754,
           0.22153916429982967,
           0.4366600923576481
          ],
          [
           0.0632124353815241,
           0.9197905089944683,
           0.6867689391309566,
           1,
           0.20642822485968382,
           0.20435155696462468,
           0.11295526916052791,
           0.4213332535645682
          ],
          [
           0.1439640751374973,
           0.2877507122936114,
           0.27340542517724714,
           0.20642822485968382,
           1,
           0.6178345911622306,
           0.6588228164793872,
           0.7374474109472257
          ],
          [
           0.14065293040662658,
           0.2290616115560481,
           0.3384827243706754,
           0.20435155696462468,
           0.6178345911622306,
           1,
           0.5360353360060729,
           0.4918642576264537
          ],
          [
           0.1096507586446559,
           0.14526722106462936,
           0.22153916429982967,
           0.11295526916052791,
           0.6588228164793872,
           0.5360353360060729,
           1,
           0.3392030413044822
          ],
          [
           0.10458258213296258,
           0.5623111505780155,
           0.4366600923576481,
           0.4213332535645682,
           0.7374474109472257,
           0.4918642576264537,
           0.3392030413044822,
           1
          ]
         ]
        },
        {
         "colorscale": "PdBu",
         "showscale": false,
         "transpose": true,
         "type": "heatmap",
         "x": [
          "DE",
          "NL",
          "UK",
          "BE",
          "SE",
          "NO",
          "FI",
          "DK"
         ],
         "xaxis": "x4",
         "y": [
          "DE",
          "NL",
          "UK",
          "BE",
          "SE",
          "NO",
          "FI",
          "DK"
         ],
         "yaxis": "y4",
         "z": [
          [
           1,
           0.9295249643593768,
           0.8055253524198941,
           0.9075464507733078,
           0.6501442042246249,
           0.5387270792360035,
           0.6095994062677718,
           0.8075846608684144
          ],
          [
           0.9295249643593768,
           1,
           0.8959232723372497,
           0.902933446482837,
           0.678228853723897,
           0.5736241803872915,
           0.608927954629943,
           0.8458818083350846
          ],
          [
           0.8055253524198941,
           0.8959232723372497,
           1,
           0.8862625829245729,
           0.794564361510654,
           0.7264294868922043,
           0.7258451091172666,
           0.804088100548414
          ],
          [
           0.9075464507733078,
           0.902933446482837,
           0.8862625829245729,
           1,
           0.7992607610597938,
           0.7193936513825165,
           0.7502228753106789,
           0.8429106547395068
          ],
          [
           0.6501442042246249,
           0.678228853723897,
           0.794564361510654,
           0.7992607610597938,
           1,
           0.9698619685196238,
           0.9554549957827437,
           0.8039115899642493
          ],
          [
           0.5387270792360035,
           0.5736241803872915,
           0.7264294868922043,
           0.7193936513825165,
           0.9698619685196238,
           1,
           0.9403954323535373,
           0.7349198450038326
          ],
          [
           0.6095994062677718,
           0.608927954629943,
           0.7258451091172666,
           0.7502228753106789,
           0.9554549957827437,
           0.9403954323535373,
           1,
           0.7610325875951515
          ],
          [
           0.8075846608684144,
           0.8458818083350846,
           0.804088100548414,
           0.8429106547395068,
           0.8039115899642493,
           0.7349198450038326,
           0.7610325875951515,
           1
          ]
         ]
        }
       ],
       "frames": [],
       "layout": {
        "annotations": [
         {
          "font": {
           "size": 16
          },
          "showarrow": false,
          "text": "Wind Offshore",
          "x": 0.225,
          "xanchor": "center",
          "xref": "paper",
          "y": 1,
          "yanchor": "bottom",
          "yref": "paper"
         },
         {
          "font": {
           "size": 16
          },
          "showarrow": false,
          "text": "Wind Onshore",
          "x": 0.775,
          "xanchor": "center",
          "xref": "paper",
          "y": 1,
          "yanchor": "bottom",
          "yref": "paper"
         },
         {
          "font": {
           "size": 16
          },
          "showarrow": false,
          "text": "Load",
          "x": 0.225,
          "xanchor": "center",
          "xref": "paper",
          "y": 0.375,
          "yanchor": "bottom",
          "yref": "paper"
         },
         {
          "font": {
           "size": 16
          },
          "showarrow": false,
          "text": "PV",
          "x": 0.775,
          "xanchor": "center",
          "xref": "paper",
          "y": 0.375,
          "yanchor": "bottom",
          "yref": "paper"
         }
        ],
        "margin": {
         "b": 50,
         "l": 50,
         "r": 50,
         "t": 60
        },
        "template": {
         "data": {
          "bar": [
           {
            "error_x": {
             "color": "#2a3f5f"
            },
            "error_y": {
             "color": "#2a3f5f"
            },
            "marker": {
             "line": {
              "color": "#E5ECF6",
              "width": 0.5
             }
            },
            "type": "bar"
           }
          ],
          "barpolar": [
           {
            "marker": {
             "line": {
              "color": "#E5ECF6",
              "width": 0.5
             }
            },
            "type": "barpolar"
           }
          ],
          "carpet": [
           {
            "aaxis": {
             "endlinecolor": "#2a3f5f",
             "gridcolor": "white",
             "linecolor": "white",
             "minorgridcolor": "white",
             "startlinecolor": "#2a3f5f"
            },
            "baxis": {
             "endlinecolor": "#2a3f5f",
             "gridcolor": "white",
             "linecolor": "white",
             "minorgridcolor": "white",
             "startlinecolor": "#2a3f5f"
            },
            "type": "carpet"
           }
          ],
          "choropleth": [
           {
            "colorbar": {
             "outlinewidth": 0,
             "ticks": ""
            },
            "type": "choropleth"
           }
          ],
          "contour": [
           {
            "colorbar": {
             "outlinewidth": 0,
             "ticks": ""
            },
            "colorscale": [
             [
              0,
              "#0d0887"
             ],
             [
              0.1111111111111111,
              "#46039f"
             ],
             [
              0.2222222222222222,
              "#7201a8"
             ],
             [
              0.3333333333333333,
              "#9c179e"
             ],
             [
              0.4444444444444444,
              "#bd3786"
             ],
             [
              0.5555555555555556,
              "#d8576b"
             ],
             [
              0.6666666666666666,
              "#ed7953"
             ],
             [
              0.7777777777777778,
              "#fb9f3a"
             ],
             [
              0.8888888888888888,
              "#fdca26"
             ],
             [
              1,
              "#f0f921"
             ]
            ],
            "type": "contour"
           }
          ],
          "contourcarpet": [
           {
            "colorbar": {
             "outlinewidth": 0,
             "ticks": ""
            },
            "type": "contourcarpet"
           }
          ],
          "heatmap": [
           {
            "colorbar": {
             "outlinewidth": 0,
             "ticks": ""
            },
            "colorscale": [
             [
              0,
              "#0d0887"
             ],
             [
              0.1111111111111111,
              "#46039f"
             ],
             [
              0.2222222222222222,
              "#7201a8"
             ],
             [
              0.3333333333333333,
              "#9c179e"
             ],
             [
              0.4444444444444444,
              "#bd3786"
             ],
             [
              0.5555555555555556,
              "#d8576b"
             ],
             [
              0.6666666666666666,
              "#ed7953"
             ],
             [
              0.7777777777777778,
              "#fb9f3a"
             ],
             [
              0.8888888888888888,
              "#fdca26"
             ],
             [
              1,
              "#f0f921"
             ]
            ],
            "type": "heatmap"
           }
          ],
          "heatmapgl": [
           {
            "colorbar": {
             "outlinewidth": 0,
             "ticks": ""
            },
            "colorscale": [
             [
              0,
              "#0d0887"
             ],
             [
              0.1111111111111111,
              "#46039f"
             ],
             [
              0.2222222222222222,
              "#7201a8"
             ],
             [
              0.3333333333333333,
              "#9c179e"
             ],
             [
              0.4444444444444444,
              "#bd3786"
             ],
             [
              0.5555555555555556,
              "#d8576b"
             ],
             [
              0.6666666666666666,
              "#ed7953"
             ],
             [
              0.7777777777777778,
              "#fb9f3a"
             ],
             [
              0.8888888888888888,
              "#fdca26"
             ],
             [
              1,
              "#f0f921"
             ]
            ],
            "type": "heatmapgl"
           }
          ],
          "histogram": [
           {
            "marker": {
             "colorbar": {
              "outlinewidth": 0,
              "ticks": ""
             }
            },
            "type": "histogram"
           }
          ],
          "histogram2d": [
           {
            "colorbar": {
             "outlinewidth": 0,
             "ticks": ""
            },
            "colorscale": [
             [
              0,
              "#0d0887"
             ],
             [
              0.1111111111111111,
              "#46039f"
             ],
             [
              0.2222222222222222,
              "#7201a8"
             ],
             [
              0.3333333333333333,
              "#9c179e"
             ],
             [
              0.4444444444444444,
              "#bd3786"
             ],
             [
              0.5555555555555556,
              "#d8576b"
             ],
             [
              0.6666666666666666,
              "#ed7953"
             ],
             [
              0.7777777777777778,
              "#fb9f3a"
             ],
             [
              0.8888888888888888,
              "#fdca26"
             ],
             [
              1,
              "#f0f921"
             ]
            ],
            "type": "histogram2d"
           }
          ],
          "histogram2dcontour": [
           {
            "colorbar": {
             "outlinewidth": 0,
             "ticks": ""
            },
            "colorscale": [
             [
              0,
              "#0d0887"
             ],
             [
              0.1111111111111111,
              "#46039f"
             ],
             [
              0.2222222222222222,
              "#7201a8"
             ],
             [
              0.3333333333333333,
              "#9c179e"
             ],
             [
              0.4444444444444444,
              "#bd3786"
             ],
             [
              0.5555555555555556,
              "#d8576b"
             ],
             [
              0.6666666666666666,
              "#ed7953"
             ],
             [
              0.7777777777777778,
              "#fb9f3a"
             ],
             [
              0.8888888888888888,
              "#fdca26"
             ],
             [
              1,
              "#f0f921"
             ]
            ],
            "type": "histogram2dcontour"
           }
          ],
          "mesh3d": [
           {
            "colorbar": {
             "outlinewidth": 0,
             "ticks": ""
            },
            "type": "mesh3d"
           }
          ],
          "parcoords": [
           {
            "line": {
             "colorbar": {
              "outlinewidth": 0,
              "ticks": ""
             }
            },
            "type": "parcoords"
           }
          ],
          "pie": [
           {
            "automargin": true,
            "type": "pie"
           }
          ],
          "scatter": [
           {
            "marker": {
             "colorbar": {
              "outlinewidth": 0,
              "ticks": ""
             }
            },
            "type": "scatter"
           }
          ],
          "scatter3d": [
           {
            "line": {
             "colorbar": {
              "outlinewidth": 0,
              "ticks": ""
             }
            },
            "marker": {
             "colorbar": {
              "outlinewidth": 0,
              "ticks": ""
             }
            },
            "type": "scatter3d"
           }
          ],
          "scattercarpet": [
           {
            "marker": {
             "colorbar": {
              "outlinewidth": 0,
              "ticks": ""
             }
            },
            "type": "scattercarpet"
           }
          ],
          "scattergeo": [
           {
            "marker": {
             "colorbar": {
              "outlinewidth": 0,
              "ticks": ""
             }
            },
            "type": "scattergeo"
           }
          ],
          "scattergl": [
           {
            "marker": {
             "colorbar": {
              "outlinewidth": 0,
              "ticks": ""
             }
            },
            "type": "scattergl"
           }
          ],
          "scattermapbox": [
           {
            "marker": {
             "colorbar": {
              "outlinewidth": 0,
              "ticks": ""
             }
            },
            "type": "scattermapbox"
           }
          ],
          "scatterpolar": [
           {
            "marker": {
             "colorbar": {
              "outlinewidth": 0,
              "ticks": ""
             }
            },
            "type": "scatterpolar"
           }
          ],
          "scatterpolargl": [
           {
            "marker": {
             "colorbar": {
              "outlinewidth": 0,
              "ticks": ""
             }
            },
            "type": "scatterpolargl"
           }
          ],
          "scatterternary": [
           {
            "marker": {
             "colorbar": {
              "outlinewidth": 0,
              "ticks": ""
             }
            },
            "type": "scatterternary"
           }
          ],
          "surface": [
           {
            "colorbar": {
             "outlinewidth": 0,
             "ticks": ""
            },
            "colorscale": [
             [
              0,
              "#0d0887"
             ],
             [
              0.1111111111111111,
              "#46039f"
             ],
             [
              0.2222222222222222,
              "#7201a8"
             ],
             [
              0.3333333333333333,
              "#9c179e"
             ],
             [
              0.4444444444444444,
              "#bd3786"
             ],
             [
              0.5555555555555556,
              "#d8576b"
             ],
             [
              0.6666666666666666,
              "#ed7953"
             ],
             [
              0.7777777777777778,
              "#fb9f3a"
             ],
             [
              0.8888888888888888,
              "#fdca26"
             ],
             [
              1,
              "#f0f921"
             ]
            ],
            "type": "surface"
           }
          ],
          "table": [
           {
            "cells": {
             "fill": {
              "color": "#EBF0F8"
             },
             "line": {
              "color": "white"
             }
            },
            "header": {
             "fill": {
              "color": "#C8D4E3"
             },
             "line": {
              "color": "white"
             }
            },
            "type": "table"
           }
          ]
         },
         "layout": {
          "annotationdefaults": {
           "arrowcolor": "#2a3f5f",
           "arrowhead": 0,
           "arrowwidth": 1
          },
          "autotypenumbers": "strict",
          "coloraxis": {
           "colorbar": {
            "outlinewidth": 0,
            "ticks": ""
           }
          },
          "colorscale": {
           "diverging": [
            [
             0,
             "#8e0152"
            ],
            [
             0.1,
             "#c51b7d"
            ],
            [
             0.2,
             "#de77ae"
            ],
            [
             0.3,
             "#f1b6da"
            ],
            [
             0.4,
             "#fde0ef"
            ],
            [
             0.5,
             "#f7f7f7"
            ],
            [
             0.6,
             "#e6f5d0"
            ],
            [
             0.7,
             "#b8e186"
            ],
            [
             0.8,
             "#7fbc41"
            ],
            [
             0.9,
             "#4d9221"
            ],
            [
             1,
             "#276419"
            ]
           ],
           "sequential": [
            [
             0,
             "#0d0887"
            ],
            [
             0.1111111111111111,
             "#46039f"
            ],
            [
             0.2222222222222222,
             "#7201a8"
            ],
            [
             0.3333333333333333,
             "#9c179e"
            ],
            [
             0.4444444444444444,
             "#bd3786"
            ],
            [
             0.5555555555555556,
             "#d8576b"
            ],
            [
             0.6666666666666666,
             "#ed7953"
            ],
            [
             0.7777777777777778,
             "#fb9f3a"
            ],
            [
             0.8888888888888888,
             "#fdca26"
            ],
            [
             1,
             "#f0f921"
            ]
           ],
           "sequentialminus": [
            [
             0,
             "#0d0887"
            ],
            [
             0.1111111111111111,
             "#46039f"
            ],
            [
             0.2222222222222222,
             "#7201a8"
            ],
            [
             0.3333333333333333,
             "#9c179e"
            ],
            [
             0.4444444444444444,
             "#bd3786"
            ],
            [
             0.5555555555555556,
             "#d8576b"
            ],
            [
             0.6666666666666666,
             "#ed7953"
            ],
            [
             0.7777777777777778,
             "#fb9f3a"
            ],
            [
             0.8888888888888888,
             "#fdca26"
            ],
            [
             1,
             "#f0f921"
            ]
           ]
          },
          "colorway": [
           "#636efa",
           "#EF553B",
           "#00cc96",
           "#ab63fa",
           "#FFA15A",
           "#19d3f3",
           "#FF6692",
           "#B6E880",
           "#FF97FF",
           "#FECB52"
          ],
          "font": {
           "color": "#2a3f5f"
          },
          "geo": {
           "bgcolor": "white",
           "lakecolor": "white",
           "landcolor": "#E5ECF6",
           "showlakes": true,
           "showland": true,
           "subunitcolor": "white"
          },
          "hoverlabel": {
           "align": "left"
          },
          "hovermode": "closest",
          "mapbox": {
           "style": "light"
          },
          "paper_bgcolor": "white",
          "plot_bgcolor": "#E5ECF6",
          "polar": {
           "angularaxis": {
            "gridcolor": "white",
            "linecolor": "white",
            "ticks": ""
           },
           "bgcolor": "#E5ECF6",
           "radialaxis": {
            "gridcolor": "white",
            "linecolor": "white",
            "ticks": ""
           }
          },
          "scene": {
           "xaxis": {
            "backgroundcolor": "#E5ECF6",
            "gridcolor": "white",
            "gridwidth": 2,
            "linecolor": "white",
            "showbackground": true,
            "ticks": "",
            "zerolinecolor": "white"
           },
           "yaxis": {
            "backgroundcolor": "#E5ECF6",
            "gridcolor": "white",
            "gridwidth": 2,
            "linecolor": "white",
            "showbackground": true,
            "ticks": "",
            "zerolinecolor": "white"
           },
           "zaxis": {
            "backgroundcolor": "#E5ECF6",
            "gridcolor": "white",
            "gridwidth": 2,
            "linecolor": "white",
            "showbackground": true,
            "ticks": "",
            "zerolinecolor": "white"
           }
          },
          "shapedefaults": {
           "line": {
            "color": "#2a3f5f"
           }
          },
          "ternary": {
           "aaxis": {
            "gridcolor": "white",
            "linecolor": "white",
            "ticks": ""
           },
           "baxis": {
            "gridcolor": "white",
            "linecolor": "white",
            "ticks": ""
           },
           "bgcolor": "#E5ECF6",
           "caxis": {
            "gridcolor": "white",
            "linecolor": "white",
            "ticks": ""
           }
          },
          "title": {
           "x": 0.05
          },
          "xaxis": {
           "automargin": true,
           "gridcolor": "white",
           "linecolor": "white",
           "ticks": "",
           "title": {
            "standoff": 15
           },
           "zerolinecolor": "white",
           "zerolinewidth": 2
          },
          "yaxis": {
           "automargin": true,
           "gridcolor": "white",
           "linecolor": "white",
           "ticks": "",
           "title": {
            "standoff": 15
           },
           "zerolinecolor": "white",
           "zerolinewidth": 2
          }
         }
        },
        "xaxis": {
         "anchor": "y",
         "domain": [
          0,
          0.45
         ]
        },
        "xaxis2": {
         "anchor": "y2",
         "domain": [
          0.55,
          1
         ]
        },
        "xaxis3": {
         "anchor": "y3",
         "domain": [
          0,
          0.45
         ]
        },
        "xaxis4": {
         "anchor": "y4",
         "domain": [
          0.55,
          1
         ]
        },
        "yaxis": {
         "anchor": "x",
         "domain": [
          0.625,
          1
         ]
        },
        "yaxis2": {
         "anchor": "x2",
         "domain": [
          0.625,
          1
         ]
        },
        "yaxis3": {
         "anchor": "x3",
         "domain": [
          0,
          0.375
         ]
        },
        "yaxis4": {
         "anchor": "x4",
         "domain": [
          0,
          0.375
         ]
        }
       }
      },
      "image/png": "[encoded data removed]",
      "image/svg+xml": [
       "<svg class=\"main-svg\" xmlns=\"http://www.w3.org/2000/svg\" xmlns:xlink=\"http://www.w3.org/1999/xlink\" width=\"700\" height=\"500\" style=\"\" viewBox=\"0 0 700 500\"><rect x=\"0\" y=\"0\" width=\"700\" height=\"500\" style=\"fill: rgb(255, 255, 255); fill-opacity: 1;\"/><defs id=\"defs-c4373d\"><g class=\"clips\"><clipPath id=\"clipc4373dxyplot\" class=\"plotclip\"><rect width=\"246.6\" height=\"146.25\"/></clipPath><clipPath id=\"clipc4373dx2y2plot\" class=\"plotclip\"><rect width=\"246.59999999999997\" height=\"146.25\"/></clipPath><clipPath id=\"clipc4373dx3y3plot\" class=\"plotclip\"><rect width=\"246.6\" height=\"146.25\"/></clipPath><clipPath id=\"clipc4373dx4y4plot\" class=\"plotclip\"><rect width=\"246.59999999999997\" height=\"146.25\"/></clipPath><clipPath class=\"axesclip\" id=\"clipc4373dx\"><rect x=\"50\" y=\"0\" width=\"246.6\" height=\"500\"/></clipPath><clipPath class=\"axesclip\" id=\"clipc4373dy\"><rect x=\"0\" y=\"60\" width=\"700\" height=\"146.25\"/></clipPath><clipPath class=\"axesclip\" id=\"clipc4373dxy\"><rect x=\"50\" y=\"60\" width=\"246.6\" height=\"146.25\"/></clipPath><clipPath class=\"axesclip\" id=\"clipc4373dy2\"><rect x=\"0\" y=\"60\" width=\"700\" height=\"146.25\"/></clipPath><clipPath class=\"axesclip\" id=\"clipc4373dxy2\"><rect x=\"50\" y=\"60\" width=\"246.6\" height=\"146.25\"/></clipPath><clipPath class=\"axesclip\" id=\"clipc4373dy3\"><rect x=\"0\" y=\"303.75\" width=\"700\" height=\"146.25\"/></clipPath><clipPath class=\"axesclip\" id=\"clipc4373dxy3\"><rect x=\"50\" y=\"303.75\" width=\"246.6\" height=\"146.25\"/></clipPath><clipPath class=\"axesclip\" id=\"clipc4373dy4\"><rect x=\"0\" y=\"303.75\" width=\"700\" height=\"146.25\"/></clipPath><clipPath class=\"axesclip\" id=\"clipc4373dxy4\"><rect x=\"50\" y=\"303.75\" width=\"246.6\" height=\"146.25\"/></clipPath><clipPath class=\"axesclip\" id=\"clipc4373dx2\"><rect x=\"351.40000000000003\" y=\"0\" width=\"246.59999999999997\" height=\"500\"/></clipPath><clipPath class=\"axesclip\" id=\"clipc4373dx2y\"><rect x=\"351.40000000000003\" y=\"60\" width=\"246.59999999999997\" height=\"146.25\"/></clipPath><clipPath class=\"axesclip\" id=\"clipc4373dx2y2\"><rect x=\"351.40000000000003\" y=\"60\" width=\"246.59999999999997\" height=\"146.25\"/></clipPath><clipPath class=\"axesclip\" id=\"clipc4373dx2y3\"><rect x=\"351.40000000000003\" y=\"303.75\" width=\"246.59999999999997\" height=\"146.25\"/></clipPath><clipPath class=\"axesclip\" id=\"clipc4373dx2y4\"><rect x=\"351.40000000000003\" y=\"303.75\" width=\"246.59999999999997\" height=\"146.25\"/></clipPath><clipPath class=\"axesclip\" id=\"clipc4373dx3\"><rect x=\"50\" y=\"0\" width=\"246.6\" height=\"500\"/></clipPath><clipPath class=\"axesclip\" id=\"clipc4373dx3y\"><rect x=\"50\" y=\"60\" width=\"246.6\" height=\"146.25\"/></clipPath><clipPath class=\"axesclip\" id=\"clipc4373dx3y2\"><rect x=\"50\" y=\"60\" width=\"246.6\" height=\"146.25\"/></clipPath><clipPath class=\"axesclip\" id=\"clipc4373dx3y3\"><rect x=\"50\" y=\"303.75\" width=\"246.6\" height=\"146.25\"/></clipPath><clipPath class=\"axesclip\" id=\"clipc4373dx3y4\"><rect x=\"50\" y=\"303.75\" width=\"246.6\" height=\"146.25\"/></clipPath><clipPath class=\"axesclip\" id=\"clipc4373dx4\"><rect x=\"351.40000000000003\" y=\"0\" width=\"246.59999999999997\" height=\"500\"/></clipPath><clipPath class=\"axesclip\" id=\"clipc4373dx4y\"><rect x=\"351.40000000000003\" y=\"60\" width=\"246.59999999999997\" height=\"146.25\"/></clipPath><clipPath class=\"axesclip\" id=\"clipc4373dx4y2\"><rect x=\"351.40000000000003\" y=\"60\" width=\"246.59999999999997\" height=\"146.25\"/></clipPath><clipPath class=\"axesclip\" id=\"clipc4373dx4y3\"><rect x=\"351.40000000000003\" y=\"303.75\" width=\"246.59999999999997\" height=\"146.25\"/></clipPath><clipPath class=\"axesclip\" id=\"clipc4373dx4y4\"><rect x=\"351.40000000000003\" y=\"303.75\" width=\"246.59999999999997\" height=\"146.25\"/></clipPath></g><g class=\"gradients\"><linearGradient x1=\"0\" x2=\"0\" y1=\"1\" y2=\"0\" id=\"gc4373d-cb216715\"><stop offset=\"0%\" stop-color=\"rgb(5, 10, 172)\" stop-opacity=\"1\"/><stop offset=\"35%\" stop-color=\"rgb(106, 137, 247)\" stop-opacity=\"1\"/><stop offset=\"50%\" stop-color=\"rgb(190, 190, 190)\" stop-opacity=\"1\"/><stop offset=\"60%\" stop-color=\"rgb(220, 170, 132)\" stop-opacity=\"1\"/><stop offset=\"70%\" stop-color=\"rgb(230, 145, 90)\" stop-opacity=\"1\"/><stop offset=\"100%\" stop-color=\"rgb(178, 10, 28)\" stop-opacity=\"1\"/></linearGradient></g></defs><g class=\"bglayer\"><rect class=\"bg\" x=\"50\" y=\"60\" width=\"246.6\" height=\"146.25\" style=\"fill: rgb(229, 236, 246); fill-opacity: 1; stroke-width: 0;\"/><rect class=\"bg\" x=\"351.40000000000003\" y=\"60\" width=\"246.59999999999997\" height=\"146.25\" style=\"fill: rgb(229, 236, 246); fill-opacity: 1; stroke-width: 0;\"/><rect class=\"bg\" x=\"50\" y=\"303.75\" width=\"246.6\" height=\"146.25\" style=\"fill: rgb(229, 236, 246); fill-opacity: 1; stroke-width: 0;\"/><rect class=\"bg\" x=\"351.40000000000003\" y=\"303.75\" width=\"246.59999999999997\" height=\"146.25\" style=\"fill: rgb(229, 236, 246); fill-opacity: 1; stroke-width: 0;\"/></g><g class=\"layer-below\"><g class=\"imagelayer\"/><g class=\"shapelayer\"/></g><g class=\"cartesianlayer\"><g class=\"subplot xy\"><g class=\"layer-subplot\"><g class=\"shapelayer\"/><g class=\"imagelayer\"/></g><g class=\"gridlayer\"><g class=\"x\"><path class=\"xgrid crisp\" transform=\"translate(65.41,0)\" d=\"M0,60v146.25\" style=\"stroke: rgb(255, 255, 255); stroke-opacity: 1; stroke-width: 1px;\"/><path class=\"xgrid crisp\" transform=\"translate(96.24000000000001,0)\" d=\"M0,60v146.25\" style=\"stroke: rgb(255, 255, 255); stroke-opacity: 1; stroke-width: 1px;\"/><path class=\"xgrid crisp\" transform=\"translate(127.06,0)\" d=\"M0,60v146.25\" style=\"stroke: rgb(255, 255, 255); stroke-opacity: 1; stroke-width: 1px;\"/><path class=\"xgrid crisp\" transform=\"translate(157.89,0)\" d=\"M0,60v146.25\" style=\"stroke: rgb(255, 255, 255); stroke-opacity: 1; stroke-width: 1px;\"/><path class=\"xgrid crisp\" transform=\"translate(188.71,0)\" d=\"M0,60v146.25\" style=\"stroke: rgb(255, 255, 255); stroke-opacity: 1; stroke-width: 1px;\"/><path class=\"xgrid crisp\" transform=\"translate(219.54,0)\" d=\"M0,60v146.25\" style=\"stroke: rgb(255, 255, 255); stroke-opacity: 1; stroke-width: 1px;\"/><path class=\"xgrid crisp\" transform=\"translate(250.36,0)\" d=\"M0,60v146.25\" style=\"stroke: rgb(255, 255, 255); stroke-opacity: 1; stroke-width: 1px;\"/><path class=\"xgrid crisp\" transform=\"translate(281.19,0)\" d=\"M0,60v146.25\" style=\"stroke: rgb(255, 255, 255); stroke-opacity: 1; stroke-width: 1px;\"/></g><g class=\"y\"><path class=\"ygrid crisp\" transform=\"translate(0,197.11)\" d=\"M50,0h246.6\" style=\"stroke: rgb(255, 255, 255); stroke-opacity: 1; stroke-width: 1px;\"/><path class=\"ygrid crisp\" transform=\"translate(0,178.82999999999998)\" d=\"M50,0h246.6\" style=\"stroke: rgb(255, 255, 255); stroke-opacity: 1; stroke-width: 1px;\"/><path class=\"ygrid crisp\" transform=\"translate(0,160.55)\" d=\"M50,0h246.6\" style=\"stroke: rgb(255, 255, 255); stroke-opacity: 1; stroke-width: 1px;\"/><path class=\"ygrid crisp\" transform=\"translate(0,142.26999999999998)\" d=\"M50,0h246.6\" style=\"stroke: rgb(255, 255, 255); stroke-opacity: 1; stroke-width: 1px;\"/><path class=\"ygrid crisp\" transform=\"translate(0,123.97999999999999)\" d=\"M50,0h246.6\" style=\"stroke: rgb(255, 255, 255); stroke-opacity: 1; stroke-width: 1px;\"/><path class=\"ygrid crisp\" transform=\"translate(0,105.7)\" d=\"M50,0h246.6\" style=\"stroke: rgb(255, 255, 255); stroke-opacity: 1; stroke-width: 1px;\"/><path class=\"ygrid crisp\" transform=\"translate(0,87.42)\" d=\"M50,0h246.6\" style=\"stroke: rgb(255, 255, 255); stroke-opacity: 1; stroke-width: 1px;\"/><path class=\"ygrid crisp\" transform=\"translate(0,69.14)\" d=\"M50,0h246.6\" style=\"stroke: rgb(255, 255, 255); stroke-opacity: 1; stroke-width: 1px;\"/></g></g><g class=\"zerolinelayer\"/><path class=\"xlines-below\"/><path class=\"ylines-below\"/><g class=\"overlines-below\"/><g class=\"xaxislayer-below\"/><g class=\"yaxislayer-below\"/><g class=\"overaxes-below\"/><g class=\"plot\" transform=\"translate(50,60)\" clip-path=\"url('#clipc4373dxyplot')\"><g class=\"heatmaplayer mlayer\"><g class=\"hm\"><image xmlns=\"http://www.w3.org/2000/svg\" preserveAspectRatio=\"none\" height=\"146\" width=\"247\" x=\"0\" y=\"0\" xlink:href=\"data:image/png;base64,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\" style=\"opacity: 1;\"/></g></g></g><g class=\"overplot\"/><path class=\"xlines-above crisp\" d=\"M0,0\" style=\"fill: none;\"/><path class=\"ylines-above crisp\" d=\"M0,0\" style=\"fill: none;\"/><g class=\"overlines-above\"/><g class=\"xaxislayer-above\"><g class=\"xtick\"><text text-anchor=\"middle\" x=\"0\" y=\"219.25\" transform=\"translate(65.41,0)\" style=\"font-family: 'Open Sans', verdana, arial, sans-serif; font-size: 12px; fill: rgb(42, 63, 95); fill-opacity: 1; white-space: pre;\">DE</text></g><g class=\"xtick\"><text text-anchor=\"middle\" x=\"0\" y=\"219.25\" transform=\"translate(96.24000000000001,0)\" style=\"font-family: 'Open Sans', verdana, arial, sans-serif; font-size: 12px; fill: rgb(42, 63, 95); fill-opacity: 1; white-space: pre;\">NL</text></g><g class=\"xtick\"><text text-anchor=\"middle\" x=\"0\" y=\"219.25\" transform=\"translate(127.06,0)\" style=\"font-family: 'Open Sans', verdana, arial, sans-serif; font-size: 12px; fill: rgb(42, 63, 95); fill-opacity: 1; white-space: pre;\">UK</text></g><g class=\"xtick\"><text text-anchor=\"middle\" x=\"0\" y=\"219.25\" transform=\"translate(157.89,0)\" style=\"font-family: 'Open Sans', verdana, arial, sans-serif; font-size: 12px; fill: rgb(42, 63, 95); fill-opacity: 1; white-space: pre;\">BE</text></g><g class=\"xtick\"><text text-anchor=\"middle\" x=\"0\" y=\"219.25\" transform=\"translate(188.71,0)\" style=\"font-family: 'Open Sans', verdana, arial, sans-serif; font-size: 12px; fill: rgb(42, 63, 95); fill-opacity: 1; white-space: pre;\">SE</text></g><g class=\"xtick\"><text text-anchor=\"middle\" x=\"0\" y=\"219.25\" transform=\"translate(219.54,0)\" style=\"font-family: 'Open Sans', verdana, arial, sans-serif; font-size: 12px; fill: rgb(42, 63, 95); fill-opacity: 1; white-space: pre;\">NO</text></g><g class=\"xtick\"><text text-anchor=\"middle\" x=\"0\" y=\"219.25\" transform=\"translate(250.36,0)\" style=\"font-family: 'Open Sans', verdana, arial, sans-serif; font-size: 12px; fill: rgb(42, 63, 95); fill-opacity: 1; white-space: pre;\">FI</text></g><g class=\"xtick\"><text text-anchor=\"middle\" x=\"0\" y=\"219.25\" transform=\"translate(281.19,0)\" style=\"font-family: 'Open Sans', verdana, arial, sans-serif; font-size: 12px; fill: rgb(42, 63, 95); fill-opacity: 1; white-space: pre;\">DK</text></g></g><g class=\"yaxislayer-above\"><g class=\"ytick\"><text text-anchor=\"end\" x=\"49\" y=\"4.199999999999999\" transform=\"translate(0,197.11)\" style=\"font-family: 'Open Sans', verdana, arial, sans-serif; font-size: 12px; fill: rgb(42, 63, 95); fill-opacity: 1; white-space: pre;\">DE</text></g><g class=\"ytick\"><text text-anchor=\"end\" x=\"49\" y=\"4.199999999999999\" transform=\"translate(0,178.82999999999998)\" style=\"font-family: 'Open Sans', verdana, arial, sans-serif; font-size: 12px; fill: rgb(42, 63, 95); fill-opacity: 1; white-space: pre;\">NL</text></g><g class=\"ytick\"><text text-anchor=\"end\" x=\"49\" y=\"4.199999999999999\" transform=\"translate(0,160.55)\" style=\"font-family: 'Open Sans', verdana, arial, sans-serif; font-size: 12px; fill: rgb(42, 63, 95); fill-opacity: 1; white-space: pre;\">UK</text></g><g class=\"ytick\"><text text-anchor=\"end\" x=\"49\" y=\"4.199999999999999\" transform=\"translate(0,142.26999999999998)\" style=\"font-family: 'Open Sans', verdana, arial, sans-serif; font-size: 12px; fill: rgb(42, 63, 95); fill-opacity: 1; white-space: pre;\">BE</text></g><g class=\"ytick\"><text text-anchor=\"end\" x=\"49\" y=\"4.199999999999999\" transform=\"translate(0,123.97999999999999)\" style=\"font-family: 'Open Sans', verdana, arial, sans-serif; font-size: 12px; fill: rgb(42, 63, 95); fill-opacity: 1; white-space: pre;\">SE</text></g><g class=\"ytick\"><text text-anchor=\"end\" x=\"49\" y=\"4.199999999999999\" transform=\"translate(0,105.7)\" style=\"font-family: 'Open Sans', verdana, arial, sans-serif; font-size: 12px; fill: rgb(42, 63, 95); fill-opacity: 1; white-space: pre;\">NO</text></g><g class=\"ytick\"><text text-anchor=\"end\" x=\"49\" y=\"4.199999999999999\" transform=\"translate(0,87.42)\" style=\"font-family: 'Open Sans', verdana, arial, sans-serif; font-size: 12px; fill: rgb(42, 63, 95); fill-opacity: 1; white-space: pre;\">FI</text></g><g class=\"ytick\"><text text-anchor=\"end\" x=\"49\" y=\"4.199999999999999\" transform=\"translate(0,69.14)\" style=\"font-family: 'Open Sans', verdana, arial, sans-serif; font-size: 12px; fill: rgb(42, 63, 95); fill-opacity: 1; white-space: pre;\">DK</text></g></g><g class=\"overaxes-above\"/></g><g class=\"subplot x2y2\"><g class=\"layer-subplot\"><g class=\"shapelayer\"/><g class=\"imagelayer\"/></g><g class=\"gridlayer\"><g class=\"x2\"><path class=\"x2grid crisp\" transform=\"translate(366.81000000000006,0)\" d=\"M0,60v146.25\" style=\"stroke: rgb(255, 255, 255); stroke-opacity: 1; stroke-width: 1px;\"/><path class=\"x2grid crisp\" transform=\"translate(397.64000000000004,0)\" d=\"M0,60v146.25\" style=\"stroke: rgb(255, 255, 255); stroke-opacity: 1; stroke-width: 1px;\"/><path class=\"x2grid crisp\" transform=\"translate(428.46000000000004,0)\" d=\"M0,60v146.25\" style=\"stroke: rgb(255, 255, 255); stroke-opacity: 1; stroke-width: 1px;\"/><path class=\"x2grid crisp\" transform=\"translate(459.29,0)\" d=\"M0,60v146.25\" style=\"stroke: rgb(255, 255, 255); stroke-opacity: 1; stroke-width: 1px;\"/><path class=\"x2grid crisp\" transform=\"translate(490.11,0)\" d=\"M0,60v146.25\" style=\"stroke: rgb(255, 255, 255); stroke-opacity: 1; stroke-width: 1px;\"/><path class=\"x2grid crisp\" transform=\"translate(520.94,0)\" d=\"M0,60v146.25\" style=\"stroke: rgb(255, 255, 255); stroke-opacity: 1; stroke-width: 1px;\"/><path class=\"x2grid crisp\" transform=\"translate(551.76,0)\" d=\"M0,60v146.25\" style=\"stroke: rgb(255, 255, 255); stroke-opacity: 1; stroke-width: 1px;\"/><path class=\"x2grid crisp\" transform=\"translate(582.59,0)\" d=\"M0,60v146.25\" style=\"stroke: rgb(255, 255, 255); stroke-opacity: 1; stroke-width: 1px;\"/></g><g class=\"y2\"><path class=\"y2grid crisp\" transform=\"translate(0,197.11)\" d=\"M351.40000000000003,0h246.59999999999997\" style=\"stroke: rgb(255, 255, 255); stroke-opacity: 1; stroke-width: 1px;\"/><path class=\"y2grid crisp\" transform=\"translate(0,178.82999999999998)\" d=\"M351.40000000000003,0h246.59999999999997\" style=\"stroke: rgb(255, 255, 255); stroke-opacity: 1; stroke-width: 1px;\"/><path class=\"y2grid crisp\" transform=\"translate(0,160.55)\" d=\"M351.40000000000003,0h246.59999999999997\" style=\"stroke: rgb(255, 255, 255); stroke-opacity: 1; stroke-width: 1px;\"/><path class=\"y2grid crisp\" transform=\"translate(0,142.26999999999998)\" d=\"M351.40000000000003,0h246.59999999999997\" style=\"stroke: rgb(255, 255, 255); stroke-opacity: 1; stroke-width: 1px;\"/><path class=\"y2grid crisp\" transform=\"translate(0,123.97999999999999)\" d=\"M351.40000000000003,0h246.59999999999997\" style=\"stroke: rgb(255, 255, 255); stroke-opacity: 1; stroke-width: 1px;\"/><path class=\"y2grid crisp\" transform=\"translate(0,105.7)\" d=\"M351.40000000000003,0h246.59999999999997\" style=\"stroke: rgb(255, 255, 255); stroke-opacity: 1; stroke-width: 1px;\"/><path class=\"y2grid crisp\" transform=\"translate(0,87.42)\" d=\"M351.40000000000003,0h246.59999999999997\" style=\"stroke: rgb(255, 255, 255); stroke-opacity: 1; stroke-width: 1px;\"/><path class=\"y2grid crisp\" transform=\"translate(0,69.14)\" d=\"M351.40000000000003,0h246.59999999999997\" style=\"stroke: rgb(255, 255, 255); stroke-opacity: 1; stroke-width: 1px;\"/></g></g><g class=\"zerolinelayer\"/><path class=\"xlines-below\"/><path class=\"ylines-below\"/><g class=\"overlines-below\"/><g class=\"xaxislayer-below\"/><g class=\"yaxislayer-below\"/><g class=\"overaxes-below\"/><g class=\"plot\" transform=\"translate(351.40000000000003,60)\" clip-path=\"url('#clipc4373dx2y2plot')\"><g class=\"heatmaplayer mlayer\"><g class=\"hm\"><image xmlns=\"http://www.w3.org/2000/svg\" preserveAspectRatio=\"none\" height=\"146\" width=\"247\" x=\"0\" y=\"0\" xlink:href=\"data:image/png;base64,iVBORw0KGgoAAAANSUhEUgAAAPcAAACSCAYAAACZtVy6AAAHhklEQVR4Xu3c3cvncx7H8c9VRhqjEMOGNG5SJFNqj6asQ5wtBxRpSyklkuQuW9sWTnYkKcWBJLEUThQHxAHttKV2T9wlJreDGSxp1l2fq+tveHxOntc/8O561Lfvs1fffhtvvfTMb2PR32P7Lll0eYyDX/1vye3/vvnhkrvz6NdffLfs9q1/PXfZ7btv/Ney28+Nm5fd3ujhtvY93NZ7Xuvh9uajN7dF781tvee13tzevCzH5mU5Bh9jlOXYvCzH4GW5B58Xy3LrXpZb77Lce29ebC238GW59Z7XynJsXpZj8LLcg5fl3rws9+at5d68LMfmZTkGL8s9eFnuzfuIxZu3lmPzshyD9xGLB28t9+ZluTdvLcfmZTkGby334K3l3rws9+at5d68tRybl+UYvLXcg5fl3ry13Ju3lmPzshyDr17Lz9z9xrJfYjl+5w6vvXXx11/W/Ntffnpo2f98252nLbt9/98/Xnb74f3XLrt9+Xhg2e2NHm5r38Ntvee1Hm5vPnpzW/Te3NZ7XuvN7c1HWW7Ry3LrPa+V5di8LMfgZbkHnxfLcutellvvstx7b14syy18WW69y3LvPcpyj95a7s3LcmxelmPw1nIPXpZ787Lcm7eWY/OyHIO3lnvw1nJvXpZ78z5i8eat5di8LMfgfcTiwctyb95a7s1by7F5WY7BW8s9eGu5Ny/LvXlrOTYvyzF4a7kHby335mW5N28t9+at5di8LMfgcy3/yz2H1vze0Bjj8E8/+/946+I5Z/x/ye1nnlj3c0M//Xh4yf88j/7jnauW3b7htMeX3b7xtrOX3e7hxvQ93Bh8jNHD7c17c2Pz3twYfIzRm9ubj7Lcopfl1nteK8uxeVmOwctyDz4vNqhZ97Lces9rZbk3L8uxeVmOwctyD16We/PWcm9elmPzshyDl+UefF5sLbfuZbn1bi333qMs9+hluTcvy7F5WY7By3IPXpZ787Lcm/cRCzYvyzF4H7F48D5i8eZluTfvIxZv3lqOzctyDN5HLB68LPfmreXevLUcm5flGHz1Wn7SrpeX/RLLUdu3ee2ti8edeMyS259++NWSu/PooweuW3b7lnOeWnb7pltOXnb7b3d9sOz2Rg+3te/htt7zWg+3Nx+9uS16b27rPa/15vbmoyy36GW59Z7XynJsXpZj8LLcg8+LZbl1L8utd1nuvTcvluUWviy33mW59x5luUdvLffmZTk2L8sxeGu5By/LvXlZ7s1by7F5WY7BW8s9eGu5Ny/LvXkfsXjz1nJsXpZj8D5i8eBluTdvLffmreXYvCzH4K3lHry13JuX5d68tRybl+UYvLXcg7eWe/Oy3JsvXcsvuGjfsl9iOebY7V576+LBA98vuX3v21csuTuPXnfio8tu7zz1uGW3v/3mh2W3j95x1LLbGz3c1r6H23rPaz3c3nz05rbovbmt97zWm9ubj7Lcopfl1nteK8uxeVmOwctyDz4vluXWvSy33mW59968WJZb+LLcepfl3nuU5R69tdybl+XYvCzH4K3lHrws9+ZluTdvLcfmZTkGby334K3l3rws9+Z9xOLNW8uxeVmOwfuIxYOX5d68tdybt5Zj87Icg7eWe/DWcm9elnvz1nJsXpZj8NZyD95a7s3Lcm++dC2/de+hZb/EcvoJB7z21sXTr794ye07dj+75O48uu3II5bd/vOVpyy7/cI/P1t2e9d5f1h2e6OH29r3cFvvea2H25uP3twWvTe39Z7XenN781GWW/Sy3HrPa2U5Ni/LMXhZ7sHnxbLcupfl1rss996bF8tyC1+WW++y3HuPstyjt5Z787Icm5flGLy13IOX5d68LPfmreXYvCzH4K3lHry13JuX5d68j1i8eWs5Ni/LMXgfsXjwstybt5Z789ZybF6WY/DWcg/eWu7Ny3Jv3lqOzctyDN5a7sFby715We7NW8u9eWs5Ni/LMfhcyz958OplP7P079tf8//x1sWPHnl1ye2nnz285O48uv/9L5fd3nPZ+ctuv/v2/mW3d+85a9ntHm5M38ONwccYPdzefPTmtui9ua33vNab25uPstyil+XWe14ry7F5WY7By3IPPi+W5da9LLfeZbn33rxYllv4stx6l+Xee5TlHr213JuX5di8LMfgreUevCz35mW5N28tx+ZlOQZvLffgreXevCz35n3E4s1by7F5WY7B+4jFg5fl3ry13Ju3lmPzshyDt5Z78NZyb16We/PWcmxelmPw1nIP3lruzctyb750LX9x+6nLfonlwvv+5LW3Lu795aElt195/r0ld+fRzz8+uOz2pdf8cdnt11/8z7LbT9772bLbGz3c1r6H23rPaz3c3nz05rbovbmt97zWm9ubj7Lcopfl1nteK8uxeVmOwctyDz4vluXWvSy33mW59968WJZb+LLcepfl3nuU5R69tdybl+XYvCzH4K3lHrws9+ZluTdvLcfmZTkGby334K3l3rws9+Z9xOLNW8uxeVmOwfuIxYOX5d68tdybt5Zj87Icg7eWe/DWcm9elnvz1nJsXpZj8NZyD95a7s3Lcm++ci3/Hf4Cx8jY/J4JAAAAAElFTkSuQmCC\" style=\"opacity: 1;\"/></g></g></g><g class=\"overplot\"/><path class=\"xlines-above crisp\" d=\"M0,0\" style=\"fill: none;\"/><path class=\"ylines-above crisp\" d=\"M0,0\" style=\"fill: none;\"/><g class=\"overlines-above\"/><g class=\"xaxislayer-above\"><g class=\"x2tick\"><text text-anchor=\"middle\" x=\"0\" y=\"219.25\" transform=\"translate(366.81000000000006,0)\" style=\"font-family: 'Open Sans', verdana, arial, sans-serif; font-size: 12px; fill: rgb(42, 63, 95); fill-opacity: 1; white-space: pre;\">DE</text></g><g class=\"x2tick\"><text text-anchor=\"middle\" x=\"0\" y=\"219.25\" transform=\"translate(397.64000000000004,0)\" style=\"font-family: 'Open Sans', verdana, arial, sans-serif; font-size: 12px; fill: rgb(42, 63, 95); fill-opacity: 1; white-space: pre;\">NL</text></g><g class=\"x2tick\"><text text-anchor=\"middle\" x=\"0\" y=\"219.25\" transform=\"translate(428.46000000000004,0)\" style=\"font-family: 'Open Sans', verdana, arial, sans-serif; font-size: 12px; fill: rgb(42, 63, 95); fill-opacity: 1; white-space: pre;\">UK</text></g><g class=\"x2tick\"><text text-anchor=\"middle\" x=\"0\" y=\"219.25\" transform=\"translate(459.29,0)\" style=\"font-family: 'Open Sans', verdana, arial, sans-serif; font-size: 12px; fill: rgb(42, 63, 95); fill-opacity: 1; white-space: pre;\">BE</text></g><g class=\"x2tick\"><text text-anchor=\"middle\" x=\"0\" y=\"219.25\" transform=\"translate(490.11,0)\" style=\"font-family: 'Open Sans', verdana, arial, sans-serif; font-size: 12px; fill: rgb(42, 63, 95); fill-opacity: 1; white-space: pre;\">SE</text></g><g class=\"x2tick\"><text text-anchor=\"middle\" x=\"0\" y=\"219.25\" transform=\"translate(520.94,0)\" style=\"font-family: 'Open Sans', verdana, arial, sans-serif; font-size: 12px; fill: rgb(42, 63, 95); fill-opacity: 1; white-space: pre;\">NO</text></g><g class=\"x2tick\"><text text-anchor=\"middle\" x=\"0\" y=\"219.25\" transform=\"translate(551.76,0)\" style=\"font-family: 'Open Sans', verdana, arial, sans-serif; font-size: 12px; fill: rgb(42, 63, 95); fill-opacity: 1; white-space: pre;\">FI</text></g><g class=\"x2tick\"><text text-anchor=\"middle\" x=\"0\" y=\"219.25\" transform=\"translate(582.59,0)\" style=\"font-family: 'Open Sans', verdana, arial, sans-serif; font-size: 12px; fill: rgb(42, 63, 95); fill-opacity: 1; white-space: pre;\">DK</text></g></g><g class=\"yaxislayer-above\"><g class=\"y2tick\"><text text-anchor=\"end\" x=\"350.40000000000003\" y=\"4.199999999999999\" transform=\"translate(0,197.11)\" style=\"font-family: 'Open Sans', verdana, arial, sans-serif; font-size: 12px; fill: rgb(42, 63, 95); fill-opacity: 1; white-space: pre;\">DE</text></g><g class=\"y2tick\"><text text-anchor=\"end\" x=\"350.40000000000003\" y=\"4.199999999999999\" transform=\"translate(0,178.82999999999998)\" style=\"font-family: 'Open Sans', verdana, arial, sans-serif; font-size: 12px; fill: rgb(42, 63, 95); fill-opacity: 1; white-space: pre;\">NL</text></g><g class=\"y2tick\"><text text-anchor=\"end\" x=\"350.40000000000003\" y=\"4.199999999999999\" transform=\"translate(0,160.55)\" style=\"font-family: 'Open Sans', verdana, arial, sans-serif; font-size: 12px; fill: rgb(42, 63, 95); fill-opacity: 1; white-space: pre;\">UK</text></g><g class=\"y2tick\"><text text-anchor=\"end\" x=\"350.40000000000003\" y=\"4.199999999999999\" transform=\"translate(0,142.26999999999998)\" style=\"font-family: 'Open Sans', verdana, arial, sans-serif; font-size: 12px; fill: rgb(42, 63, 95); fill-opacity: 1; white-space: pre;\">BE</text></g><g class=\"y2tick\"><text text-anchor=\"end\" x=\"350.40000000000003\" y=\"4.199999999999999\" transform=\"translate(0,123.97999999999999)\" style=\"font-family: 'Open Sans', verdana, arial, sans-serif; font-size: 12px; fill: rgb(42, 63, 95); fill-opacity: 1; white-space: pre;\">SE</text></g><g class=\"y2tick\"><text text-anchor=\"end\" x=\"350.40000000000003\" y=\"4.199999999999999\" transform=\"translate(0,105.7)\" style=\"font-family: 'Open Sans', verdana, arial, sans-serif; font-size: 12px; fill: rgb(42, 63, 95); fill-opacity: 1; white-space: pre;\">NO</text></g><g class=\"y2tick\"><text text-anchor=\"end\" x=\"350.40000000000003\" y=\"4.199999999999999\" transform=\"translate(0,87.42)\" style=\"font-family: 'Open Sans', verdana, arial, sans-serif; font-size: 12px; fill: rgb(42, 63, 95); fill-opacity: 1; white-space: pre;\">FI</text></g><g class=\"y2tick\"><text text-anchor=\"end\" x=\"350.40000000000003\" y=\"4.199999999999999\" transform=\"translate(0,69.14)\" style=\"font-family: 'Open Sans', verdana, arial, sans-serif; font-size: 12px; fill: rgb(42, 63, 95); fill-opacity: 1; white-space: pre;\">DK</text></g></g><g class=\"overaxes-above\"/></g><g class=\"subplot x3y3\"><g class=\"layer-subplot\"><g class=\"shapelayer\"/><g class=\"imagelayer\"/></g><g class=\"gridlayer\"><g class=\"x3\"><path class=\"x3grid crisp\" transform=\"translate(65.41,0)\" d=\"M0,303.75v146.25\" style=\"stroke: rgb(255, 255, 255); stroke-opacity: 1; stroke-width: 1px;\"/><path class=\"x3grid crisp\" transform=\"translate(96.24000000000001,0)\" d=\"M0,303.75v146.25\" style=\"stroke: rgb(255, 255, 255); stroke-opacity: 1; stroke-width: 1px;\"/><path class=\"x3grid crisp\" transform=\"translate(127.06,0)\" d=\"M0,303.75v146.25\" style=\"stroke: rgb(255, 255, 255); stroke-opacity: 1; stroke-width: 1px;\"/><path class=\"x3grid crisp\" transform=\"translate(157.89,0)\" d=\"M0,303.75v146.25\" style=\"stroke: rgb(255, 255, 255); stroke-opacity: 1; stroke-width: 1px;\"/><path class=\"x3grid crisp\" transform=\"translate(188.71,0)\" d=\"M0,303.75v146.25\" style=\"stroke: rgb(255, 255, 255); stroke-opacity: 1; stroke-width: 1px;\"/><path class=\"x3grid crisp\" transform=\"translate(219.54,0)\" d=\"M0,303.75v146.25\" style=\"stroke: rgb(255, 255, 255); stroke-opacity: 1; stroke-width: 1px;\"/><path class=\"x3grid crisp\" transform=\"translate(250.36,0)\" d=\"M0,303.75v146.25\" style=\"stroke: rgb(255, 255, 255); stroke-opacity: 1; stroke-width: 1px;\"/><path class=\"x3grid crisp\" transform=\"translate(281.19,0)\" d=\"M0,303.75v146.25\" style=\"stroke: rgb(255, 255, 255); stroke-opacity: 1; stroke-width: 1px;\"/></g><g class=\"y3\"><path class=\"y3grid crisp\" transform=\"translate(0,440.86)\" d=\"M50,0h246.6\" style=\"stroke: rgb(255, 255, 255); stroke-opacity: 1; stroke-width: 1px;\"/><path class=\"y3grid crisp\" transform=\"translate(0,422.58)\" d=\"M50,0h246.6\" style=\"stroke: rgb(255, 255, 255); stroke-opacity: 1; stroke-width: 1px;\"/><path class=\"y3grid crisp\" transform=\"translate(0,404.3)\" d=\"M50,0h246.6\" style=\"stroke: rgb(255, 255, 255); stroke-opacity: 1; stroke-width: 1px;\"/><path class=\"y3grid crisp\" transform=\"translate(0,386.02)\" d=\"M50,0h246.6\" style=\"stroke: rgb(255, 255, 255); stroke-opacity: 1; stroke-width: 1px;\"/><path class=\"y3grid crisp\" transform=\"translate(0,367.73)\" d=\"M50,0h246.6\" style=\"stroke: rgb(255, 255, 255); stroke-opacity: 1; stroke-width: 1px;\"/><path class=\"y3grid crisp\" transform=\"translate(0,349.45)\" d=\"M50,0h246.6\" style=\"stroke: rgb(255, 255, 255); stroke-opacity: 1; stroke-width: 1px;\"/><path class=\"y3grid crisp\" transform=\"translate(0,331.17)\" d=\"M50,0h246.6\" style=\"stroke: rgb(255, 255, 255); stroke-opacity: 1; stroke-width: 1px;\"/><path class=\"y3grid crisp\" transform=\"translate(0,312.89)\" d=\"M50,0h246.6\" style=\"stroke: rgb(255, 255, 255); stroke-opacity: 1; stroke-width: 1px;\"/></g></g><g class=\"zerolinelayer\"/><path class=\"xlines-below\"/><path class=\"ylines-below\"/><g class=\"overlines-below\"/><g class=\"xaxislayer-below\"/><g class=\"yaxislayer-below\"/><g class=\"overaxes-below\"/><g class=\"plot\" transform=\"translate(50,303.75)\" clip-path=\"url('#clipc4373dx3y3plot')\"><g class=\"heatmaplayer mlayer\"><g class=\"hm\"><image xmlns=\"http://www.w3.org/2000/svg\" preserveAspectRatio=\"none\" height=\"146\" width=\"247\" x=\"0\" y=\"0\" xlink:href=\"data:image/png;base64,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\" style=\"opacity: 1;\"/></g></g></g><g class=\"overplot\"/><path class=\"xlines-above crisp\" d=\"M0,0\" style=\"fill: none;\"/><path class=\"ylines-above crisp\" d=\"M0,0\" style=\"fill: none;\"/><g class=\"overlines-above\"/><g class=\"xaxislayer-above\"><g class=\"x3tick\"><text text-anchor=\"middle\" x=\"0\" y=\"463\" transform=\"translate(65.41,0)\" style=\"font-family: 'Open Sans', verdana, arial, sans-serif; font-size: 12px; fill: rgb(42, 63, 95); fill-opacity: 1; white-space: pre;\">DE</text></g><g class=\"x3tick\"><text text-anchor=\"middle\" x=\"0\" y=\"463\" transform=\"translate(96.24000000000001,0)\" style=\"font-family: 'Open Sans', verdana, arial, sans-serif; font-size: 12px; fill: rgb(42, 63, 95); fill-opacity: 1; white-space: pre;\">NL</text></g><g class=\"x3tick\"><text text-anchor=\"middle\" x=\"0\" y=\"463\" transform=\"translate(127.06,0)\" style=\"font-family: 'Open Sans', verdana, arial, sans-serif; font-size: 12px; fill: rgb(42, 63, 95); fill-opacity: 1; white-space: pre;\">UK</text></g><g class=\"x3tick\"><text text-anchor=\"middle\" x=\"0\" y=\"463\" transform=\"translate(157.89,0)\" style=\"font-family: 'Open Sans', verdana, arial, sans-serif; font-size: 12px; fill: rgb(42, 63, 95); fill-opacity: 1; white-space: pre;\">BE</text></g><g class=\"x3tick\"><text text-anchor=\"middle\" x=\"0\" y=\"463\" transform=\"translate(188.71,0)\" style=\"font-family: 'Open Sans', verdana, arial, sans-serif; font-size: 12px; fill: rgb(42, 63, 95); fill-opacity: 1; white-space: pre;\">SE</text></g><g class=\"x3tick\"><text text-anchor=\"middle\" x=\"0\" y=\"463\" transform=\"translate(219.54,0)\" style=\"font-family: 'Open Sans', verdana, arial, sans-serif; font-size: 12px; fill: rgb(42, 63, 95); fill-opacity: 1; white-space: pre;\">NO</text></g><g class=\"x3tick\"><text text-anchor=\"middle\" x=\"0\" y=\"463\" transform=\"translate(250.36,0)\" style=\"font-family: 'Open Sans', verdana, arial, sans-serif; font-size: 12px; fill: rgb(42, 63, 95); fill-opacity: 1; white-space: pre;\">FI</text></g><g class=\"x3tick\"><text text-anchor=\"middle\" x=\"0\" y=\"463\" transform=\"translate(281.19,0)\" style=\"font-family: 'Open Sans', verdana, arial, sans-serif; font-size: 12px; fill: rgb(42, 63, 95); fill-opacity: 1; white-space: pre;\">DK</text></g></g><g class=\"yaxislayer-above\"><g class=\"y3tick\"><text text-anchor=\"end\" x=\"49\" y=\"4.199999999999999\" transform=\"translate(0,440.86)\" style=\"font-family: 'Open Sans', verdana, arial, sans-serif; font-size: 12px; fill: rgb(42, 63, 95); fill-opacity: 1; white-space: pre;\">DE</text></g><g class=\"y3tick\"><text text-anchor=\"end\" x=\"49\" y=\"4.199999999999999\" transform=\"translate(0,422.58)\" style=\"font-family: 'Open Sans', verdana, arial, sans-serif; font-size: 12px; fill: rgb(42, 63, 95); fill-opacity: 1; white-space: pre;\">NL</text></g><g class=\"y3tick\"><text text-anchor=\"end\" x=\"49\" y=\"4.199999999999999\" transform=\"translate(0,404.3)\" style=\"font-family: 'Open Sans', verdana, arial, sans-serif; font-size: 12px; fill: rgb(42, 63, 95); fill-opacity: 1; white-space: pre;\">UK</text></g><g class=\"y3tick\"><text text-anchor=\"end\" x=\"49\" y=\"4.199999999999999\" transform=\"translate(0,386.02)\" style=\"font-family: 'Open Sans', verdana, arial, sans-serif; font-size: 12px; fill: rgb(42, 63, 95); fill-opacity: 1; white-space: pre;\">BE</text></g><g class=\"y3tick\"><text text-anchor=\"end\" x=\"49\" y=\"4.199999999999999\" transform=\"translate(0,367.73)\" style=\"font-family: 'Open Sans', verdana, arial, sans-serif; font-size: 12px; fill: rgb(42, 63, 95); fill-opacity: 1; white-space: pre;\">SE</text></g><g class=\"y3tick\"><text text-anchor=\"end\" x=\"49\" y=\"4.199999999999999\" transform=\"translate(0,349.45)\" style=\"font-family: 'Open Sans', verdana, arial, sans-serif; font-size: 12px; fill: rgb(42, 63, 95); fill-opacity: 1; white-space: pre;\">NO</text></g><g class=\"y3tick\"><text text-anchor=\"end\" x=\"49\" y=\"4.199999999999999\" transform=\"translate(0,331.17)\" style=\"font-family: 'Open Sans', verdana, arial, sans-serif; font-size: 12px; fill: rgb(42, 63, 95); fill-opacity: 1; white-space: pre;\">FI</text></g><g class=\"y3tick\"><text text-anchor=\"end\" x=\"49\" y=\"4.199999999999999\" transform=\"translate(0,312.89)\" style=\"font-family: 'Open Sans', verdana, arial, sans-serif; font-size: 12px; fill: rgb(42, 63, 95); fill-opacity: 1; white-space: pre;\">DK</text></g></g><g class=\"overaxes-above\"/></g><g class=\"subplot x4y4\"><g class=\"layer-subplot\"><g class=\"shapelayer\"/><g class=\"imagelayer\"/></g><g class=\"gridlayer\"><g class=\"x4\"><path class=\"x4grid crisp\" transform=\"translate(366.81000000000006,0)\" d=\"M0,303.75v146.25\" style=\"stroke: rgb(255, 255, 255); stroke-opacity: 1; stroke-width: 1px;\"/><path class=\"x4grid crisp\" transform=\"translate(397.64000000000004,0)\" d=\"M0,303.75v146.25\" style=\"stroke: rgb(255, 255, 255); stroke-opacity: 1; stroke-width: 1px;\"/><path class=\"x4grid crisp\" transform=\"translate(428.46000000000004,0)\" d=\"M0,303.75v146.25\" style=\"stroke: rgb(255, 255, 255); stroke-opacity: 1; stroke-width: 1px;\"/><path class=\"x4grid crisp\" transform=\"translate(459.29,0)\" d=\"M0,303.75v146.25\" style=\"stroke: rgb(255, 255, 255); stroke-opacity: 1; stroke-width: 1px;\"/><path class=\"x4grid crisp\" transform=\"translate(490.11,0)\" d=\"M0,303.75v146.25\" style=\"stroke: rgb(255, 255, 255); stroke-opacity: 1; stroke-width: 1px;\"/><path class=\"x4grid crisp\" transform=\"translate(520.94,0)\" d=\"M0,303.75v146.25\" style=\"stroke: rgb(255, 255, 255); stroke-opacity: 1; stroke-width: 1px;\"/><path class=\"x4grid crisp\" transform=\"translate(551.76,0)\" d=\"M0,303.75v146.25\" style=\"stroke: rgb(255, 255, 255); stroke-opacity: 1; stroke-width: 1px;\"/><path class=\"x4grid crisp\" transform=\"translate(582.59,0)\" d=\"M0,303.75v146.25\" style=\"stroke: rgb(255, 255, 255); stroke-opacity: 1; stroke-width: 1px;\"/></g><g class=\"y4\"><path class=\"y4grid crisp\" transform=\"translate(0,440.86)\" d=\"M351.40000000000003,0h246.59999999999997\" style=\"stroke: rgb(255, 255, 255); stroke-opacity: 1; stroke-width: 1px;\"/><path class=\"y4grid crisp\" transform=\"translate(0,422.58)\" d=\"M351.40000000000003,0h246.59999999999997\" style=\"stroke: rgb(255, 255, 255); stroke-opacity: 1; stroke-width: 1px;\"/><path class=\"y4grid crisp\" transform=\"translate(0,404.3)\" d=\"M351.40000000000003,0h246.59999999999997\" style=\"stroke: rgb(255, 255, 255); stroke-opacity: 1; stroke-width: 1px;\"/><path class=\"y4grid crisp\" transform=\"translate(0,386.02)\" d=\"M351.40000000000003,0h246.59999999999997\" style=\"stroke: rgb(255, 255, 255); stroke-opacity: 1; stroke-width: 1px;\"/><path class=\"y4grid crisp\" transform=\"translate(0,367.73)\" d=\"M351.40000000000003,0h246.59999999999997\" style=\"stroke: rgb(255, 255, 255); stroke-opacity: 1; stroke-width: 1px;\"/><path class=\"y4grid crisp\" transform=\"translate(0,349.45)\" d=\"M351.40000000000003,0h246.59999999999997\" style=\"stroke: rgb(255, 255, 255); stroke-opacity: 1; stroke-width: 1px;\"/><path class=\"y4grid crisp\" transform=\"translate(0,331.17)\" d=\"M351.40000000000003,0h246.59999999999997\" style=\"stroke: rgb(255, 255, 255); stroke-opacity: 1; stroke-width: 1px;\"/><path class=\"y4grid crisp\" transform=\"translate(0,312.89)\" d=\"M351.40000000000003,0h246.59999999999997\" style=\"stroke: rgb(255, 255, 255); stroke-opacity: 1; stroke-width: 1px;\"/></g></g><g class=\"zerolinelayer\"/><path class=\"xlines-below\"/><path class=\"ylines-below\"/><g class=\"overlines-below\"/><g class=\"xaxislayer-below\"/><g class=\"yaxislayer-below\"/><g class=\"overaxes-below\"/><g class=\"plot\" transform=\"translate(351.40000000000003,303.75)\" clip-path=\"url('#clipc4373dx4y4plot')\"><g class=\"heatmaplayer mlayer\"><g class=\"hm\"><image xmlns=\"http://www.w3.org/2000/svg\" preserveAspectRatio=\"none\" height=\"146\" width=\"247\" x=\"0\" y=\"0\" xlink:href=\"data:image/png;base64,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\" style=\"opacity: 1;\"/></g></g></g><g class=\"overplot\"/><path class=\"xlines-above crisp\" d=\"M0,0\" style=\"fill: none;\"/><path class=\"ylines-above crisp\" d=\"M0,0\" style=\"fill: none;\"/><g class=\"overlines-above\"/><g class=\"xaxislayer-above\"><g class=\"x4tick\"><text text-anchor=\"middle\" x=\"0\" y=\"463\" transform=\"translate(366.81000000000006,0)\" style=\"font-family: 'Open Sans', verdana, arial, sans-serif; font-size: 12px; fill: rgb(42, 63, 95); fill-opacity: 1; white-space: pre;\">DE</text></g><g class=\"x4tick\"><text text-anchor=\"middle\" x=\"0\" y=\"463\" transform=\"translate(397.64000000000004,0)\" style=\"font-family: 'Open Sans', verdana, arial, sans-serif; font-size: 12px; fill: rgb(42, 63, 95); fill-opacity: 1; white-space: pre;\">NL</text></g><g class=\"x4tick\"><text text-anchor=\"middle\" x=\"0\" y=\"463\" transform=\"translate(428.46000000000004,0)\" style=\"font-family: 'Open Sans', verdana, arial, sans-serif; font-size: 12px; fill: rgb(42, 63, 95); fill-opacity: 1; white-space: pre;\">UK</text></g><g class=\"x4tick\"><text text-anchor=\"middle\" x=\"0\" y=\"463\" transform=\"translate(459.29,0)\" style=\"font-family: 'Open Sans', verdana, arial, sans-serif; font-size: 12px; fill: rgb(42, 63, 95); fill-opacity: 1; white-space: pre;\">BE</text></g><g class=\"x4tick\"><text text-anchor=\"middle\" x=\"0\" y=\"463\" transform=\"translate(490.11,0)\" style=\"font-family: 'Open Sans', verdana, arial, sans-serif; font-size: 12px; fill: rgb(42, 63, 95); fill-opacity: 1; white-space: pre;\">SE</text></g><g class=\"x4tick\"><text text-anchor=\"middle\" x=\"0\" y=\"463\" transform=\"translate(520.94,0)\" style=\"font-family: 'Open Sans', verdana, arial, sans-serif; font-size: 12px; fill: rgb(42, 63, 95); fill-opacity: 1; white-space: pre;\">NO</text></g><g class=\"x4tick\"><text text-anchor=\"middle\" x=\"0\" y=\"463\" transform=\"translate(551.76,0)\" style=\"font-family: 'Open Sans', verdana, arial, sans-serif; font-size: 12px; fill: rgb(42, 63, 95); fill-opacity: 1; white-space: pre;\">FI</text></g><g class=\"x4tick\"><text text-anchor=\"middle\" x=\"0\" y=\"463\" transform=\"translate(582.59,0)\" style=\"font-family: 'Open Sans', verdana, arial, sans-serif; font-size: 12px; fill: rgb(42, 63, 95); fill-opacity: 1; white-space: pre;\">DK</text></g></g><g class=\"yaxislayer-above\"><g class=\"y4tick\"><text text-anchor=\"end\" x=\"350.40000000000003\" y=\"4.199999999999999\" transform=\"translate(0,440.86)\" style=\"font-family: 'Open Sans', verdana, arial, sans-serif; font-size: 12px; fill: rgb(42, 63, 95); fill-opacity: 1; white-space: pre;\">DE</text></g><g class=\"y4tick\"><text text-anchor=\"end\" x=\"350.40000000000003\" y=\"4.199999999999999\" transform=\"translate(0,422.58)\" style=\"font-family: 'Open Sans', verdana, arial, sans-serif; font-size: 12px; fill: rgb(42, 63, 95); fill-opacity: 1; white-space: pre;\">NL</text></g><g class=\"y4tick\"><text text-anchor=\"end\" x=\"350.40000000000003\" y=\"4.199999999999999\" transform=\"translate(0,404.3)\" style=\"font-family: 'Open Sans', verdana, arial, sans-serif; font-size: 12px; fill: rgb(42, 63, 95); fill-opacity: 1; white-space: pre;\">UK</text></g><g class=\"y4tick\"><text text-anchor=\"end\" x=\"350.40000000000003\" y=\"4.199999999999999\" transform=\"translate(0,386.02)\" style=\"font-family: 'Open Sans', verdana, arial, sans-serif; font-size: 12px; fill: rgb(42, 63, 95); fill-opacity: 1; white-space: pre;\">BE</text></g><g class=\"y4tick\"><text text-anchor=\"end\" x=\"350.40000000000003\" y=\"4.199999999999999\" transform=\"translate(0,367.73)\" style=\"font-family: 'Open Sans', verdana, arial, sans-serif; font-size: 12px; fill: rgb(42, 63, 95); fill-opacity: 1; white-space: pre;\">SE</text></g><g class=\"y4tick\"><text text-anchor=\"end\" x=\"350.40000000000003\" y=\"4.199999999999999\" transform=\"translate(0,349.45)\" style=\"font-family: 'Open Sans', verdana, arial, sans-serif; font-size: 12px; fill: rgb(42, 63, 95); fill-opacity: 1; white-space: pre;\">NO</text></g><g class=\"y4tick\"><text text-anchor=\"end\" x=\"350.40000000000003\" y=\"4.199999999999999\" transform=\"translate(0,331.17)\" style=\"font-family: 'Open Sans', verdana, arial, sans-serif; font-size: 12px; fill: rgb(42, 63, 95); fill-opacity: 1; white-space: pre;\">FI</text></g><g class=\"y4tick\"><text text-anchor=\"end\" x=\"350.40000000000003\" y=\"4.199999999999999\" transform=\"translate(0,312.89)\" style=\"font-family: 'Open Sans', verdana, arial, sans-serif; font-size: 12px; fill: rgb(42, 63, 95); fill-opacity: 1; white-space: pre;\">DK</text></g></g><g class=\"overaxes-above\"/></g></g><g class=\"polarlayer\"/><g class=\"ternarylayer\"/><g class=\"geolayer\"/><g class=\"funnelarealayer\"/><g class=\"pielayer\"/><g class=\"treemaplayer\"/><g class=\"sunburstlayer\"/><g class=\"glimages\"/><defs id=\"topdefs-c4373d\"><g class=\"clips\"/></defs><g class=\"layer-above\"><g class=\"imagelayer\"/><g class=\"shapelayer\"/></g><g class=\"infolayer\"><g class=\"cb216715 colorbar\" transform=\"translate(50,60)\"><rect class=\"cbbg\" x=\"559\" y=\"0\" width=\"79.15625\" height=\"390\" style=\"fill: rgb(0, 0, 0); fill-opacity: 0; stroke: rgb(68, 68, 68); stroke-opacity: 1; stroke-width: 0;\"/><g class=\"cbfills\" transform=\"translate(0,10)\"><rect class=\"cbfill\" x=\"569\" width=\"30\" y=\"0\" height=\"370\" style=\"fill: url('#gc4373d-cb216715');\"/></g><g class=\"cblines\" transform=\"translate(0,10)\"/><g class=\"cbaxis crisp\" transform=\"translate(0,-60)\"><g class=\"ycb216715tick\"><text text-anchor=\"start\" x=\"601.9\" y=\"4.199999999999999\" transform=\"translate(0,422.79)\" style=\"font-family: 'Open Sans', verdana, arial, sans-serif; font-size: 12px; fill: rgb(42, 63, 95); fill-opacity: 1; white-space: pre;\">−0.6</text></g><g class=\"ycb216715tick\"><text text-anchor=\"start\" x=\"601.9\" y=\"4.199999999999999\" transform=\"translate(0,378.69)\" style=\"font-family: 'Open Sans', verdana, arial, sans-serif; font-size: 12px; fill: rgb(42, 63, 95); fill-opacity: 1; white-space: pre;\">−0.4</text></g><g class=\"ycb216715tick\"><text text-anchor=\"start\" x=\"601.9\" y=\"4.199999999999999\" transform=\"translate(0,334.59)\" style=\"font-family: 'Open Sans', verdana, arial, sans-serif; font-size: 12px; fill: rgb(42, 63, 95); fill-opacity: 1; white-space: pre;\">−0.2</text></g><g class=\"ycb216715tick\"><text text-anchor=\"start\" x=\"601.9\" y=\"4.199999999999999\" transform=\"translate(0,290.49)\" style=\"font-family: 'Open Sans', verdana, arial, sans-serif; font-size: 12px; fill: rgb(42, 63, 95); fill-opacity: 1; white-space: pre;\">0</text></g><g class=\"ycb216715tick\"><text text-anchor=\"start\" x=\"601.9\" y=\"4.199999999999999\" transform=\"translate(0,246.39)\" style=\"font-family: 'Open Sans', verdana, arial, sans-serif; font-size: 12px; fill: rgb(42, 63, 95); fill-opacity: 1; white-space: pre;\">0.2</text></g><g class=\"ycb216715tick\"><text text-anchor=\"start\" x=\"601.9\" y=\"4.199999999999999\" transform=\"translate(0,202.3)\" style=\"font-family: 'Open Sans', verdana, arial, sans-serif; font-size: 12px; fill: rgb(42, 63, 95); fill-opacity: 1; white-space: pre;\">0.4</text></g><g class=\"ycb216715tick\"><text text-anchor=\"start\" x=\"601.9\" y=\"4.199999999999999\" transform=\"translate(0,158.2)\" style=\"font-family: 'Open Sans', verdana, arial, sans-serif; font-size: 12px; fill: rgb(42, 63, 95); fill-opacity: 1; white-space: pre;\">0.6</text></g><g class=\"ycb216715tick\"><text text-anchor=\"start\" x=\"601.9\" y=\"4.199999999999999\" transform=\"translate(0,114.1)\" style=\"font-family: 'Open Sans', verdana, arial, sans-serif; font-size: 12px; fill: rgb(42, 63, 95); fill-opacity: 1; white-space: pre;\">0.8</text></g><g class=\"ycb216715tick\"><text text-anchor=\"start\" x=\"601.9\" y=\"4.199999999999999\" transform=\"translate(0,70)\" style=\"font-family: 'Open Sans', verdana, arial, sans-serif; font-size: 12px; fill: rgb(42, 63, 95); fill-opacity: 1; white-space: pre;\">1</text></g></g><g class=\"cbtitleunshift\" transform=\"translate(-50,-60)\"><g class=\"cbtitle\"/></g><rect class=\"cboutline\" x=\"569\" y=\"10\" width=\"30\" height=\"370\" style=\"stroke: rgb(68, 68, 68); stroke-opacity: 1; fill: none; stroke-width: 0;\"/></g><g class=\"g-gtitle\"/><g class=\"g-xtitle\"/><g class=\"g-x2title\"/><g class=\"g-x3title\"/><g class=\"g-x4title\"/><g class=\"g-ytitle\"/><g class=\"g-y2title\"/><g class=\"g-y3title\"/><g class=\"g-y4title\"/><g class=\"annotation\" data-index=\"0\" style=\"opacity: 1;\"><g class=\"annotation-text-g\" transform=\"rotate(0,173.3,48.5)\"><g class=\"cursor-pointer\" transform=\"translate(115,37)\"><rect class=\"bg\" x=\"0.5\" y=\"0.5\" width=\"116\" height=\"22\" style=\"stroke-width: 1px; stroke: rgb(0, 0, 0); stroke-opacity: 0; fill: rgb(0, 0, 0); fill-opacity: 0;\"/><text class=\"annotation-text\" text-anchor=\"middle\" x=\"58.625\" y=\"17\" style=\"font-family: 'Open Sans', verdana, arial, sans-serif; font-size: 16px; fill: rgb(42, 63, 95); fill-opacity: 1; white-space: pre;\">Wind Offshore</text></g></g></g><g class=\"annotation\" data-index=\"1\" style=\"opacity: 1;\"><g class=\"annotation-text-g\" transform=\"rotate(0,474.7,48.5)\"><g class=\"cursor-pointer\" transform=\"translate(417,37)\"><rect class=\"bg\" x=\"0.5\" y=\"0.5\" width=\"115\" height=\"22\" style=\"stroke-width: 1px; stroke: rgb(0, 0, 0); stroke-opacity: 0; fill: rgb(0, 0, 0); fill-opacity: 0;\"/><text class=\"annotation-text\" text-anchor=\"middle\" x=\"58.1875\" y=\"17\" style=\"font-family: 'Open Sans', verdana, arial, sans-serif; font-size: 16px; fill: rgb(42, 63, 95); fill-opacity: 1; white-space: pre;\">Wind Onshore</text></g></g></g><g class=\"annotation\" data-index=\"2\" style=\"opacity: 1;\"><g class=\"annotation-text-g\" transform=\"rotate(0,173.3,292.25)\"><g class=\"cursor-pointer\" transform=\"translate(152,281)\"><rect class=\"bg\" x=\"0.5\" y=\"0.5\" width=\"41\" height=\"22\" style=\"stroke-width: 1px; stroke: rgb(0, 0, 0); stroke-opacity: 0; fill: rgb(0, 0, 0); fill-opacity: 0;\"/><text class=\"annotation-text\" text-anchor=\"middle\" x=\"21.203125\" y=\"17\" style=\"font-family: 'Open Sans', verdana, arial, sans-serif; font-size: 16px; fill: rgb(42, 63, 95); fill-opacity: 1; white-space: pre;\">Load</text></g></g></g><g class=\"annotation\" data-index=\"3\" style=\"opacity: 1;\"><g class=\"annotation-text-g\" transform=\"rotate(0,474.7,292.25)\"><g class=\"cursor-pointer\" transform=\"translate(462,281)\"><rect class=\"bg\" x=\"0.5\" y=\"0.5\" width=\"24\" height=\"22\" style=\"stroke-width: 1px; stroke: rgb(0, 0, 0); stroke-opacity: 0; fill: rgb(0, 0, 0); fill-opacity: 0;\"/><text class=\"annotation-text\" text-anchor=\"middle\" x=\"12.296875\" y=\"17\" style=\"font-family: 'Open Sans', verdana, arial, sans-serif; font-size: 16px; fill: rgb(42, 63, 95); fill-opacity: 1; white-space: pre;\">PV</text></g></g></g></g></svg>"
      ],
      "text/html": [
       "<div\n",
       "    class=\"webio-mountpoint\"\n",
       "    data-webio-mountpoint=\"11655048197160088458\"\n",
       ">\n",
       "    <script>\n",
       "    (function(){\n",
       "    // Some integrations (namely, IJulia/Jupyter) use an alternate render pathway than\n",
       "    // just putting the html on the page. If WebIO isn't defined, then it's pretty likely\n",
       "    // that we're in one of those situations and the integration just isn't installed\n",
       "    // correctly.\n",
       "    if (typeof window.WebIO === \"undefined\") {\n",
       "        document\n",
       "            .querySelector('[data-webio-mountpoint=\"11655048197160088458\"]')\n",
       "            .innerHTML = (\n",
       "                '<div style=\"padding: 1em; background-color: #f8d6da; border: 1px solid #f5c6cb; font-weight: bold;\">' +\n",
       "                '<p><strong>WebIO not detected.</strong></p>' +\n",
       "                '<p>Please read ' +\n",
       "                '<a href=\"https://juliagizmos.github.io/WebIO.jl/latest/troubleshooting/not-detected/\" target=\"_blank\">the troubleshooting guide</a> ' +\n",
       "                'for more information on how to resolve this issue.</p>' +\n",
       "                '<p><a href=\"https://juliagizmos.github.io/WebIO.jl/latest/troubleshooting/not-detected/\" target=\"_blank\">https://juliagizmos.github.io/WebIO.jl/latest/troubleshooting/not-detected/</a></p>' +\n",
       "                '</div>'\n",
       "            );\n",
       "        return;\n",
       "    }\n",
       "    WebIO.mount(\n",
       "        document.querySelector('[data-webio-mountpoint=\"11655048197160088458\"]'),\n",
       "        {\"props\":{},\"nodeType\":\"Scope\",\"type\":\"node\",\"instanceArgs\":{\"imports\":{\"data\":[{\"name\":\"Plotly\",\"type\":\"js\",\"url\":\"\\/assetserver\\/bc3df212c35a76f539ba6c33f43b7e3bf302eaec-plotly.min.js\"},{\"name\":null,\"type\":\"js\",\"url\":\"\\/assetserver\\/f6be41123f59e725cf798b2149533917e352e214-plotly_webio.bundle.js\"}],\"type\":\"async_block\"},\"id\":\"14572931161969176321\",\"handlers\":{\"_toImage\":[\"(function (options){return this.Plotly.toImage(this.plotElem,options).then((function (data){return WebIO.setval({\\\"name\\\":\\\"image\\\",\\\"scope\\\":\\\"14572931161969176321\\\",\\\"id\\\":\\\"5\\\",\\\"type\\\":\\\"observable\\\"},data)}))})\"],\"__get_gd_contents\":[\"(function (prop){prop==\\\"data\\\" ? (WebIO.setval({\\\"name\\\":\\\"__gd_contents\\\",\\\"scope\\\":\\\"14572931161969176321\\\",\\\"id\\\":\\\"6\\\",\\\"type\\\":\\\"observable\\\"},this.plotElem.data)) : undefined; return prop==\\\"layout\\\" ? (WebIO.setval({\\\"name\\\":\\\"__gd_contents\\\",\\\"scope\\\":\\\"14572931161969176321\\\",\\\"id\\\":\\\"6\\\",\\\"type\\\":\\\"observable\\\"},this.plotElem.layout)) : undefined})\"],\"_downloadImage\":[\"(function (options){return this.Plotly.downloadImage(this.plotElem,options)})\"],\"_commands\":[\"(function (args){var fn=args.shift(); var elem=this.plotElem; var Plotly=this.Plotly; args.unshift(elem); return Plotly[fn].apply(this,args)})\"]},\"systemjs_options\":null,\"mount_callbacks\":[\"function () {\\n    var handler = ((function (Plotly,PlotlyWebIO){PlotlyWebIO.init(WebIO); var gd=this.dom.querySelector(\\\"#plot-0fcaedb2-11a7-4f45-a170-d9995f4befa0\\\"); this.plotElem=gd; this.Plotly=Plotly; (window.Blink!==undefined) ? (gd.style.width=\\\"100%\\\", gd.style.height=\\\"100vh\\\", gd.style.marginLeft=\\\"0%\\\", gd.style.marginTop=\\\"0vh\\\") : undefined; window.onresize=(function (){return Plotly.Plots.resize(gd)}); Plotly.newPlot(gd,[],{\\\"xaxis\\\":{\\\"domain\\\":[0.0,0.45],\\\"anchor\\\":\\\"y\\\"},\\\"template\\\":{\\\"layout\\\":{\\\"coloraxis\\\":{\\\"colorbar\\\":{\\\"ticks\\\":\\\"\\\",\\\"outlinewidth\\\":0}},\\\"xaxis\\\":{\\\"gridcolor\\\":\\\"white\\\",\\\"zerolinewidth\\\":2,\\\"title\\\":{\\\"standoff\\\":15},\\\"ticks\\\":\\\"\\\",\\\"zerolinecolor\\\":\\\"white\\\",\\\"automargin\\\":true,\\\"linecolor\\\":\\\"white\\\"},\\\"hovermode\\\":\\\"closest\\\",\\\"paper_bgcolor\\\":\\\"white\\\",\\\"geo\\\":{\\\"showlakes\\\":true,\\\"showland\\\":true,\\\"landcolor\\\":\\\"#E5ECF6\\\",\\\"bgcolor\\\":\\\"white\\\",\\\"subunitcolor\\\":\\\"white\\\",\\\"lakecolor\\\":\\\"white\\\"},\\\"colorscale\\\":{\\\"sequential\\\":[[0.0,\\\"#0d0887\\\"],[0.1111111111111111,\\\"#46039f\\\"],[0.2222222222222222,\\\"#7201a8\\\"],[0.3333333333333333,\\\"#9c179e\\\"],[0.4444444444444444,\\\"#bd3786\\\"],[0.5555555555555556,\\\"#d8576b\\\"],[0.6666666666666666,\\\"#ed7953\\\"],[0.7777777777777778,\\\"#fb9f3a\\\"],[0.8888888888888888,\\\"#fdca26\\\"],[1.0,\\\"#f0f921\\\"]],\\\"diverging\\\":[[0,\\\"#8e0152\\\"],[0.1,\\\"#c51b7d\\\"],[0.2,\\\"#de77ae\\\"],[0.3,\\\"#f1b6da\\\"],[0.4,\\\"#fde0ef\\\"],[0.5,\\\"#f7f7f7\\\"],[0.6,\\\"#e6f5d0\\\"],[0.7,\\\"#b8e186\\\"],[0.8,\\\"#7fbc41\\\"],[0.9,\\\"#4d9221\\\"],[1,\\\"#276419\\\"]],\\\"sequentialminus\\\":[[0.0,\\\"#0d0887\\\"],[0.1111111111111111,\\\"#46039f\\\"],[0.2222222222222222,\\\"#7201a8\\\"],[0.3333333333333333,\\\"#9c179e\\\"],[0.4444444444444444,\\\"#bd3786\\\"],[0.5555555555555556,\\\"#d8576b\\\"],[0.6666666666666666,\\\"#ed7953\\\"],[0.7777777777777778,\\\"#fb9f3a\\\"],[0.8888888888888888,\\\"#fdca26\\\"],[1.0,\\\"#f0f921\\\"]]},\\\"yaxis\\\":{\\\"gridcolor\\\":\\\"white\\\",\\\"zerolinewidth\\\":2,\\\"title\\\":{\\\"standoff\\\":15},\\\"ticks\\\":\\\"\\\",\\\"zerolinecolor\\\":\\\"white\\\",\\\"automargin\\\":true,\\\"linecolor\\\":\\\"white\\\"},\\\"shapedefaults\\\":{\\\"line\\\":{\\\"color\\\":\\\"#2a3f5f\\\"}},\\\"hoverlabel\\\":{\\\"align\\\":\\\"left\\\"},\\\"mapbox\\\":{\\\"style\\\":\\\"light\\\"},\\\"polar\\\":{\\\"angularaxis\\\":{\\\"gridcolor\\\":\\\"white\\\",\\\"ticks\\\":\\\"\\\",\\\"linecolor\\\":\\\"white\\\"},\\\"bgcolor\\\":\\\"#E5ECF6\\\",\\\"radialaxis\\\":{\\\"gridcolor\\\":\\\"white\\\",\\\"ticks\\\":\\\"\\\",\\\"linecolor\\\":\\\"white\\\"}},\\\"autotypenumbers\\\":\\\"strict\\\",\\\"font\\\":{\\\"color\\\":\\\"#2a3f5f\\\"},\\\"ternary\\\":{\\\"baxis\\\":{\\\"gridcolor\\\":\\\"white\\\",\\\"ticks\\\":\\\"\\\",\\\"linecolor\\\":\\\"white\\\"},\\\"bgcolor\\\":\\\"#E5ECF6\\\",\\\"caxis\\\":{\\\"gridcolor\\\":\\\"white\\\",\\\"ticks\\\":\\\"\\\",\\\"linecolor\\\":\\\"white\\\"},\\\"aaxis\\\":{\\\"gridcolor\\\":\\\"white\\\",\\\"ticks\\\":\\\"\\\",\\\"linecolor\\\":\\\"white\\\"}},\\\"annotationdefaults\\\":{\\\"arrowhead\\\":0,\\\"arrowwidth\\\":1,\\\"arrowcolor\\\":\\\"#2a3f5f\\\"},\\\"plot_bgcolor\\\":\\\"#E5ECF6\\\",\\\"title\\\":{\\\"x\\\":0.05},\\\"scene\\\":{\\\"xaxis\\\":{\\\"gridcolor\\\":\\\"white\\\",\\\"gridwidth\\\":2,\\\"backgroundcolor\\\":\\\"#E5ECF6\\\",\\\"ticks\\\":\\\"\\\",\\\"showbackground\\\":true,\\\"zerolinecolor\\\":\\\"white\\\",\\\"linecolor\\\":\\\"white\\\"},\\\"zaxis\\\":{\\\"gridcolor\\\":\\\"white\\\",\\\"gridwidth\\\":2,\\\"backgroundcolor\\\":\\\"#E5ECF6\\\",\\\"ticks\\\":\\\"\\\",\\\"showbackground\\\":true,\\\"zerolinecolor\\\":\\\"white\\\",\\\"linecolor\\\":\\\"white\\\"},\\\"yaxis\\\":{\\\"gridcolor\\\":\\\"white\\\",\\\"gridwidth\\\":2,\\\"backgroundcolor\\\":\\\"#E5ECF6\\\",\\\"ticks\\\":\\\"\\\",\\\"showbackground\\\":true,\\\"zerolinecolor\\\":\\\"white\\\",\\\"linecolor\\\":\\\"white\\\"}},\\\"colorway\\\":[\\\"#636efa\\\",\\\"#EF553B\\\",\\\"#00cc96\\\",\\\"#ab63fa\\\",\\\"#FFA15A\\\",\\\"#19d3f3\\\",\\\"#FF6692\\\",\\\"#B6E880\\\",\\\"#FF97FF\\\",\\\"#FECB52\\\"]},\\\"data\\\":{\\\"barpolar\\\":[{\\\"type\\\":\\\"barpolar\\\",\\\"marker\\\":{\\\"line\\\":{\\\"color\\\":\\\"#E5ECF6\\\",\\\"width\\\":0.5}}}],\\\"carpet\\\":[{\\\"aaxis\\\":{\\\"gridcolor\\\":\\\"white\\\",\\\"endlinecolor\\\":\\\"#2a3f5f\\\",\\\"minorgridcolor\\\":\\\"white\\\",\\\"startlinecolor\\\":\\\"#2a3f5f\\\",\\\"linecolor\\\":\\\"white\\\"},\\\"type\\\":\\\"carpet\\\",\\\"baxis\\\":{\\\"gridcolor\\\":\\\"white\\\",\\\"endlinecolor\\\":\\\"#2a3f5f\\\",\\\"minorgridcolor\\\":\\\"white\\\",\\\"startlinecolor\\\":\\\"#2a3f5f\\\",\\\"linecolor\\\":\\\"white\\\"}}],\\\"scatterpolar\\\":[{\\\"type\\\":\\\"scatterpolar\\\",\\\"marker\\\":{\\\"colorbar\\\":{\\\"ticks\\\":\\\"\\\",\\\"outlinewidth\\\":0}}}],\\\"parcoords\\\":[{\\\"line\\\":{\\\"colorbar\\\":{\\\"ticks\\\":\\\"\\\",\\\"outlinewidth\\\":0}},\\\"type\\\":\\\"parcoords\\\"}],\\\"scatter\\\":[{\\\"type\\\":\\\"scatter\\\",\\\"marker\\\":{\\\"colorbar\\\":{\\\"ticks\\\":\\\"\\\",\\\"outlinewidth\\\":0}}}],\\\"histogram2dcontour\\\":[{\\\"colorbar\\\":{\\\"ticks\\\":\\\"\\\",\\\"outlinewidth\\\":0},\\\"type\\\":\\\"histogram2dcontour\\\",\\\"colorscale\\\":[[0.0,\\\"#0d0887\\\"],[0.1111111111111111,\\\"#46039f\\\"],[0.2222222222222222,\\\"#7201a8\\\"],[0.3333333333333333,\\\"#9c179e\\\"],[0.4444444444444444,\\\"#bd3786\\\"],[0.5555555555555556,\\\"#d8576b\\\"],[0.6666666666666666,\\\"#ed7953\\\"],[0.7777777777777778,\\\"#fb9f3a\\\"],[0.8888888888888888,\\\"#fdca26\\\"],[1.0,\\\"#f0f921\\\"]]}],\\\"contour\\\":[{\\\"colorbar\\\":{\\\"ticks\\\":\\\"\\\",\\\"outlinewidth\\\":0},\\\"type\\\":\\\"contour\\\",\\\"colorscale\\\":[[0.0,\\\"#0d0887\\\"],[0.1111111111111111,\\\"#46039f\\\"],[0.2222222222222222,\\\"#7201a8\\\"],[0.3333333333333333,\\\"#9c179e\\\"],[0.4444444444444444,\\\"#bd3786\\\"],[0.5555555555555556,\\\"#d8576b\\\"],[0.6666666666666666,\\\"#ed7953\\\"],[0.7777777777777778,\\\"#fb9f3a\\\"],[0.8888888888888888,\\\"#fdca26\\\"],[1.0,\\\"#f0f921\\\"]]}],\\\"scattercarpet\\\":[{\\\"type\\\":\\\"scattercarpet\\\",\\\"marker\\\":{\\\"colorbar\\\":{\\\"ticks\\\":\\\"\\\",\\\"outlinewidth\\\":0}}}],\\\"mesh3d\\\":[{\\\"colorbar\\\":{\\\"ticks\\\":\\\"\\\",\\\"outlinewidth\\\":0},\\\"type\\\":\\\"mesh3d\\\"}],\\\"surface\\\":[{\\\"colorbar\\\":{\\\"ticks\\\":\\\"\\\",\\\"outlinewidth\\\":0},\\\"type\\\":\\\"surface\\\",\\\"colorscale\\\":[[0.0,\\\"#0d0887\\\"],[0.1111111111111111,\\\"#46039f\\\"],[0.2222222222222222,\\\"#7201a8\\\"],[0.3333333333333333,\\\"#9c179e\\\"],[0.4444444444444444,\\\"#bd3786\\\"],[0.5555555555555556,\\\"#d8576b\\\"],[0.6666666666666666,\\\"#ed7953\\\"],[0.7777777777777778,\\\"#fb9f3a\\\"],[0.8888888888888888,\\\"#fdca26\\\"],[1.0,\\\"#f0f921\\\"]]}],\\\"scattermapbox\\\":[{\\\"type\\\":\\\"scattermapbox\\\",\\\"marker\\\":{\\\"colorbar\\\":{\\\"ticks\\\":\\\"\\\",\\\"outlinewidth\\\":0}}}],\\\"scattergeo\\\":[{\\\"type\\\":\\\"scattergeo\\\",\\\"marker\\\":{\\\"colorbar\\\":{\\\"ticks\\\":\\\"\\\",\\\"outlinewidth\\\":0}}}],\\\"histogram\\\":[{\\\"type\\\":\\\"histogram\\\",\\\"marker\\\":{\\\"colorbar\\\":{\\\"ticks\\\":\\\"\\\",\\\"outlinewidth\\\":0}}}],\\\"pie\\\":[{\\\"type\\\":\\\"pie\\\",\\\"automargin\\\":true}],\\\"choropleth\\\":[{\\\"colorbar\\\":{\\\"ticks\\\":\\\"\\\",\\\"outlinewidth\\\":0},\\\"type\\\":\\\"choropleth\\\"}],\\\"heatmapgl\\\":[{\\\"colorbar\\\":{\\\"ticks\\\":\\\"\\\",\\\"outlinewidth\\\":0},\\\"type\\\":\\\"heatmapgl\\\",\\\"colorscale\\\":[[0.0,\\\"#0d0887\\\"],[0.1111111111111111,\\\"#46039f\\\"],[0.2222222222222222,\\\"#7201a8\\\"],[0.3333333333333333,\\\"#9c179e\\\"],[0.4444444444444444,\\\"#bd3786\\\"],[0.5555555555555556,\\\"#d8576b\\\"],[0.6666666666666666,\\\"#ed7953\\\"],[0.7777777777777778,\\\"#fb9f3a\\\"],[0.8888888888888888,\\\"#fdca26\\\"],[1.0,\\\"#f0f921\\\"]]}],\\\"bar\\\":[{\\\"type\\\":\\\"bar\\\",\\\"error_y\\\":{\\\"color\\\":\\\"#2a3f5f\\\"},\\\"error_x\\\":{\\\"color\\\":\\\"#2a3f5f\\\"},\\\"marker\\\":{\\\"line\\\":{\\\"color\\\":\\\"#E5ECF6\\\",\\\"width\\\":0.5}}}],\\\"heatmap\\\":[{\\\"colorbar\\\":{\\\"ticks\\\":\\\"\\\",\\\"outlinewidth\\\":0},\\\"type\\\":\\\"heatmap\\\",\\\"colorscale\\\":[[0.0,\\\"#0d0887\\\"],[0.1111111111111111,\\\"#46039f\\\"],[0.2222222222222222,\\\"#7201a8\\\"],[0.3333333333333333,\\\"#9c179e\\\"],[0.4444444444444444,\\\"#bd3786\\\"],[0.5555555555555556,\\\"#d8576b\\\"],[0.6666666666666666,\\\"#ed7953\\\"],[0.7777777777777778,\\\"#fb9f3a\\\"],[0.8888888888888888,\\\"#fdca26\\\"],[1.0,\\\"#f0f921\\\"]]}],\\\"contourcarpet\\\":[{\\\"colorbar\\\":{\\\"ticks\\\":\\\"\\\",\\\"outlinewidth\\\":0},\\\"type\\\":\\\"contourcarpet\\\"}],\\\"table\\\":[{\\\"type\\\":\\\"table\\\",\\\"header\\\":{\\\"line\\\":{\\\"color\\\":\\\"white\\\"},\\\"fill\\\":{\\\"color\\\":\\\"#C8D4E3\\\"}},\\\"cells\\\":{\\\"line\\\":{\\\"color\\\":\\\"white\\\"},\\\"fill\\\":{\\\"color\\\":\\\"#EBF0F8\\\"}}}],\\\"scatter3d\\\":[{\\\"line\\\":{\\\"colorbar\\\":{\\\"ticks\\\":\\\"\\\",\\\"outlinewidth\\\":0}},\\\"type\\\":\\\"scatter3d\\\",\\\"marker\\\":{\\\"colorbar\\\":{\\\"ticks\\\":\\\"\\\",\\\"outlinewidth\\\":0}}}],\\\"scattergl\\\":[{\\\"type\\\":\\\"scattergl\\\",\\\"marker\\\":{\\\"colorbar\\\":{\\\"ticks\\\":\\\"\\\",\\\"outlinewidth\\\":0}}}],\\\"histogram2d\\\":[{\\\"colorbar\\\":{\\\"ticks\\\":\\\"\\\",\\\"outlinewidth\\\":0},\\\"type\\\":\\\"histogram2d\\\",\\\"colorscale\\\":[[0.0,\\\"#0d0887\\\"],[0.1111111111111111,\\\"#46039f\\\"],[0.2222222222222222,\\\"#7201a8\\\"],[0.3333333333333333,\\\"#9c179e\\\"],[0.4444444444444444,\\\"#bd3786\\\"],[0.5555555555555556,\\\"#d8576b\\\"],[0.6666666666666666,\\\"#ed7953\\\"],[0.7777777777777778,\\\"#fb9f3a\\\"],[0.8888888888888888,\\\"#fdca26\\\"],[1.0,\\\"#f0f921\\\"]]}],\\\"scatterternary\\\":[{\\\"type\\\":\\\"scatterternary\\\",\\\"marker\\\":{\\\"colorbar\\\":{\\\"ticks\\\":\\\"\\\",\\\"outlinewidth\\\":0}}}],\\\"scatterpolargl\\\":[{\\\"type\\\":\\\"scatterpolargl\\\",\\\"marker\\\":{\\\"colorbar\\\":{\\\"ticks\\\":\\\"\\\",\\\"outlinewidth\\\":0}}}]}},\\\"yaxis4\\\":{\\\"domain\\\":[0.0,0.375],\\\"anchor\\\":\\\"x4\\\"},\\\"yaxis3\\\":{\\\"domain\\\":[0.0,0.375],\\\"anchor\\\":\\\"x3\\\"},\\\"yaxis\\\":{\\\"domain\\\":[0.625,1.0],\\\"anchor\\\":\\\"x\\\"},\\\"yaxis2\\\":{\\\"domain\\\":[0.625,1.0],\\\"anchor\\\":\\\"x2\\\"},\\\"xaxis3\\\":{\\\"domain\\\":[0.0,0.45],\\\"anchor\\\":\\\"y3\\\"},\\\"xaxis4\\\":{\\\"domain\\\":[0.55,1.0],\\\"anchor\\\":\\\"y4\\\"},\\\"xaxis2\\\":{\\\"domain\\\":[0.55,1.0],\\\"anchor\\\":\\\"y2\\\"},\\\"annotations\\\":[{\\\"yanchor\\\":\\\"bottom\\\",\\\"xanchor\\\":\\\"center\\\",\\\"y\\\":1.0,\\\"font\\\":{\\\"size\\\":16},\\\"yref\\\":\\\"paper\\\",\\\"showarrow\\\":false,\\\"text\\\":\\\"Wind Offshore\\\",\\\"xref\\\":\\\"paper\\\",\\\"x\\\":0.225},{\\\"yanchor\\\":\\\"bottom\\\",\\\"xanchor\\\":\\\"center\\\",\\\"y\\\":1.0,\\\"font\\\":{\\\"size\\\":16},\\\"yref\\\":\\\"paper\\\",\\\"showarrow\\\":false,\\\"text\\\":\\\"Wind Onshore\\\",\\\"xref\\\":\\\"paper\\\",\\\"x\\\":0.775},{\\\"yanchor\\\":\\\"bottom\\\",\\\"xanchor\\\":\\\"center\\\",\\\"y\\\":0.375,\\\"font\\\":{\\\"size\\\":16},\\\"yref\\\":\\\"paper\\\",\\\"showarrow\\\":false,\\\"text\\\":\\\"Load\\\",\\\"xref\\\":\\\"paper\\\",\\\"x\\\":0.225},{\\\"yanchor\\\":\\\"bottom\\\",\\\"xanchor\\\":\\\"center\\\",\\\"y\\\":0.375,\\\"font\\\":{\\\"size\\\":16},\\\"yref\\\":\\\"paper\\\",\\\"showarrow\\\":false,\\\"text\\\":\\\"PV\\\",\\\"xref\\\":\\\"paper\\\",\\\"x\\\":0.775}],\\\"margin\\\":{\\\"l\\\":50,\\\"b\\\":50,\\\"r\\\":50,\\\"t\\\":60}},{\\\"showLink\\\":false,\\\"editable\\\":false,\\\"responsive\\\":true,\\\"staticPlot\\\":false,\\\"scrollZoom\\\":true}); gd.on(\\\"plotly_hover\\\",(function (data){var filtered_data=WebIO.PlotlyCommands.filterEventData(gd,data,\\\"hover\\\"); return !(filtered_data.isnil) ? (WebIO.setval({\\\"name\\\":\\\"hover\\\",\\\"scope\\\":\\\"14572931161969176321\\\",\\\"id\\\":\\\"1\\\",\\\"type\\\":\\\"observable\\\"},filtered_data.out)) : undefined})); gd.on(\\\"plotly_unhover\\\",(function (){return WebIO.setval({\\\"name\\\":\\\"hover\\\",\\\"scope\\\":\\\"14572931161969176321\\\",\\\"id\\\":\\\"1\\\",\\\"type\\\":\\\"observable\\\"},{})})); gd.on(\\\"plotly_selected\\\",(function (data){var filtered_data=WebIO.PlotlyCommands.filterEventData(gd,data,\\\"selected\\\"); return !(filtered_data.isnil) ? (WebIO.setval({\\\"name\\\":\\\"selected\\\",\\\"scope\\\":\\\"14572931161969176321\\\",\\\"id\\\":\\\"2\\\",\\\"type\\\":\\\"observable\\\"},filtered_data.out)) : undefined})); gd.on(\\\"plotly_deselect\\\",(function (){return WebIO.setval({\\\"name\\\":\\\"selected\\\",\\\"scope\\\":\\\"14572931161969176321\\\",\\\"id\\\":\\\"2\\\",\\\"type\\\":\\\"observable\\\"},{})})); gd.on(\\\"plotly_relayout\\\",(function (data){var filtered_data=WebIO.PlotlyCommands.filterEventData(gd,data,\\\"relayout\\\"); return !(filtered_data.isnil) ? (WebIO.setval({\\\"name\\\":\\\"relayout\\\",\\\"scope\\\":\\\"14572931161969176321\\\",\\\"id\\\":\\\"4\\\",\\\"type\\\":\\\"observable\\\"},filtered_data.out)) : undefined})); return gd.on(\\\"plotly_click\\\",(function (data){var filtered_data=WebIO.PlotlyCommands.filterEventData(gd,data,\\\"click\\\"); return !(filtered_data.isnil) ? (WebIO.setval({\\\"name\\\":\\\"click\\\",\\\"scope\\\":\\\"14572931161969176321\\\",\\\"id\\\":\\\"3\\\",\\\"type\\\":\\\"observable\\\"},filtered_data.out)) : undefined}))}));\\n    (WebIO.importBlock({\\\"data\\\":[{\\\"name\\\":\\\"Plotly\\\",\\\"type\\\":\\\"js\\\",\\\"url\\\":\\\"\\/assetserver\\/bc3df212c35a76f539ba6c33f43b7e3bf302eaec-plotly.min.js\\\"},{\\\"name\\\":null,\\\"type\\\":\\\"js\\\",\\\"url\\\":\\\"\\/assetserver\\/f6be41123f59e725cf798b2149533917e352e214-plotly_webio.bundle.js\\\"}],\\\"type\\\":\\\"async_block\\\"})).then((imports) => handler.apply(this, imports));\\n}\\n\"],\"observables\":{\"_toImage\":{\"sync\":false,\"id\":\"8\",\"value\":{}},\"hover\":{\"sync\":false,\"id\":\"1\",\"value\":{}},\"selected\":{\"sync\":false,\"id\":\"2\",\"value\":{}},\"__gd_contents\":{\"sync\":false,\"id\":\"6\",\"value\":{}},\"click\":{\"sync\":false,\"id\":\"3\",\"value\":{}},\"image\":{\"sync\":true,\"id\":\"5\",\"value\":\"\"},\"__get_gd_contents\":{\"sync\":false,\"id\":\"10\",\"value\":\"\"},\"_downloadImage\":{\"sync\":false,\"id\":\"9\",\"value\":{}},\"relayout\":{\"sync\":false,\"id\":\"4\",\"value\":{}},\"_commands\":{\"sync\":false,\"id\":\"7\",\"value\":[\"update\",{},{\"xaxis\":{\"domain\":[0.0,0.45],\"anchor\":\"y\"},\"template\":{\"data\":{\"scatterpolargl\":[{\"type\":\"scatterpolargl\",\"marker\":{\"colorbar\":{\"ticks\":\"\",\"outlinewidth\":0}}}],\"carpet\":[{\"baxis\":{\"gridcolor\":\"white\",\"endlinecolor\":\"#2a3f5f\",\"minorgridcolor\":\"white\",\"startlinecolor\":\"#2a3f5f\",\"linecolor\":\"white\"},\"type\":\"carpet\",\"aaxis\":{\"gridcolor\":\"white\",\"endlinecolor\":\"#2a3f5f\",\"minorgridcolor\":\"white\",\"startlinecolor\":\"#2a3f5f\",\"linecolor\":\"white\"}}],\"scatterpolar\":[{\"type\":\"scatterpolar\",\"marker\":{\"colorbar\":{\"ticks\":\"\",\"outlinewidth\":0}}}],\"parcoords\":[{\"line\":{\"colorbar\":{\"ticks\":\"\",\"outlinewidth\":0}},\"type\":\"parcoords\"}],\"scatter\":[{\"type\":\"scatter\",\"marker\":{\"colorbar\":{\"ticks\":\"\",\"outlinewidth\":0}}}],\"histogram2dcontour\":[{\"colorbar\":{\"ticks\":\"\",\"outlinewidth\":0},\"type\":\"histogram2dcontour\",\"colorscale\":[[0.0,\"#0d0887\"],[0.1111111111111111,\"#46039f\"],[0.2222222222222222,\"#7201a8\"],[0.3333333333333333,\"#9c179e\"],[0.4444444444444444,\"#bd3786\"],[0.5555555555555556,\"#d8576b\"],[0.6666666666666666,\"#ed7953\"],[0.7777777777777778,\"#fb9f3a\"],[0.8888888888888888,\"#fdca26\"],[1.0,\"#f0f921\"]]}],\"contour\":[{\"colorbar\":{\"ticks\":\"\",\"outlinewidth\":0},\"type\":\"contour\",\"colorscale\":[[0.0,\"#0d0887\"],[0.1111111111111111,\"#46039f\"],[0.2222222222222222,\"#7201a8\"],[0.3333333333333333,\"#9c179e\"],[0.4444444444444444,\"#bd3786\"],[0.5555555555555556,\"#d8576b\"],[0.6666666666666666,\"#ed7953\"],[0.7777777777777778,\"#fb9f3a\"],[0.8888888888888888,\"#fdca26\"],[1.0,\"#f0f921\"]]}],\"scattercarpet\":[{\"type\":\"scattercarpet\",\"marker\":{\"colorbar\":{\"ticks\":\"\",\"outlinewidth\":0}}}],\"mesh3d\":[{\"colorbar\":{\"ticks\":\"\",\"outlinewidth\":0},\"type\":\"mesh3d\"}],\"surface\":[{\"colorbar\":{\"ticks\":\"\",\"outlinewidth\":0},\"type\":\"surface\",\"colorscale\":[[0.0,\"#0d0887\"],[0.1111111111111111,\"#46039f\"],[0.2222222222222222,\"#7201a8\"],[0.3333333333333333,\"#9c179e\"],[0.4444444444444444,\"#bd3786\"],[0.5555555555555556,\"#d8576b\"],[0.6666666666666666,\"#ed7953\"],[0.7777777777777778,\"#fb9f3a\"],[0.8888888888888888,\"#fdca26\"],[1.0,\"#f0f921\"]]}],\"scattermapbox\":[{\"type\":\"scattermapbox\",\"marker\":{\"colorbar\":{\"ticks\":\"\",\"outlinewidth\":0}}}],\"scattergeo\":[{\"type\":\"scattergeo\",\"marker\":{\"colorbar\":{\"ticks\":\"\",\"outlinewidth\":0}}}],\"histogram\":[{\"type\":\"histogram\",\"marker\":{\"colorbar\":{\"ticks\":\"\",\"outlinewidth\":0}}}],\"pie\":[{\"type\":\"pie\",\"automargin\":true}],\"choropleth\":[{\"colorbar\":{\"ticks\":\"\",\"outlinewidth\":0},\"type\":\"choropleth\"}],\"heatmapgl\":[{\"colorbar\":{\"ticks\":\"\",\"outlinewidth\":0},\"type\":\"heatmapgl\",\"colorscale\":[[0.0,\"#0d0887\"],[0.1111111111111111,\"#46039f\"],[0.2222222222222222,\"#7201a8\"],[0.3333333333333333,\"#9c179e\"],[0.4444444444444444,\"#bd3786\"],[0.5555555555555556,\"#d8576b\"],[0.6666666666666666,\"#ed7953\"],[0.7777777777777778,\"#fb9f3a\"],[0.8888888888888888,\"#fdca26\"],[1.0,\"#f0f921\"]]}],\"bar\":[{\"type\":\"bar\",\"error_y\":{\"color\":\"#2a3f5f\"},\"error_x\":{\"color\":\"#2a3f5f\"},\"marker\":{\"line\":{\"color\":\"#E5ECF6\",\"width\":0.5}}}],\"heatmap\":[{\"colorbar\":{\"ticks\":\"\",\"outlinewidth\":0},\"type\":\"heatmap\",\"colorscale\":[[0.0,\"#0d0887\"],[0.1111111111111111,\"#46039f\"],[0.2222222222222222,\"#7201a8\"],[0.3333333333333333,\"#9c179e\"],[0.4444444444444444,\"#bd3786\"],[0.5555555555555556,\"#d8576b\"],[0.6666666666666666,\"#ed7953\"],[0.7777777777777778,\"#fb9f3a\"],[0.8888888888888888,\"#fdca26\"],[1.0,\"#f0f921\"]]}],\"contourcarpet\":[{\"colorbar\":{\"ticks\":\"\",\"outlinewidth\":0},\"type\":\"contourcarpet\"}],\"table\":[{\"type\":\"table\",\"header\":{\"line\":{\"color\":\"white\"},\"fill\":{\"color\":\"#C8D4E3\"}},\"cells\":{\"line\":{\"color\":\"white\"},\"fill\":{\"color\":\"#EBF0F8\"}}}],\"scatter3d\":[{\"line\":{\"colorbar\":{\"ticks\":\"\",\"outlinewidth\":0}},\"type\":\"scatter3d\",\"marker\":{\"colorbar\":{\"ticks\":\"\",\"outlinewidth\":0}}}],\"scattergl\":[{\"type\":\"scattergl\",\"marker\":{\"colorbar\":{\"ticks\":\"\",\"outlinewidth\":0}}}],\"histogram2d\":[{\"colorbar\":{\"ticks\":\"\",\"outlinewidth\":0},\"type\":\"histogram2d\",\"colorscale\":[[0.0,\"#0d0887\"],[0.1111111111111111,\"#46039f\"],[0.2222222222222222,\"#7201a8\"],[0.3333333333333333,\"#9c179e\"],[0.4444444444444444,\"#bd3786\"],[0.5555555555555556,\"#d8576b\"],[0.6666666666666666,\"#ed7953\"],[0.7777777777777778,\"#fb9f3a\"],[0.8888888888888888,\"#fdca26\"],[1.0,\"#f0f921\"]]}],\"scatterternary\":[{\"type\":\"scatterternary\",\"marker\":{\"colorbar\":{\"ticks\":\"\",\"outlinewidth\":0}}}],\"barpolar\":[{\"type\":\"barpolar\",\"marker\":{\"line\":{\"color\":\"#E5ECF6\",\"width\":0.5}}}]},\"layout\":{\"xaxis\":{\"gridcolor\":\"white\",\"zerolinewidth\":2,\"title\":{\"standoff\":15},\"ticks\":\"\",\"zerolinecolor\":\"white\",\"automargin\":true,\"linecolor\":\"white\"},\"hovermode\":\"closest\",\"paper_bgcolor\":\"white\",\"geo\":{\"showlakes\":true,\"showland\":true,\"landcolor\":\"#E5ECF6\",\"bgcolor\":\"white\",\"subunitcolor\":\"white\",\"lakecolor\":\"white\"},\"colorscale\":{\"sequential\":[[0.0,\"#0d0887\"],[0.1111111111111111,\"#46039f\"],[0.2222222222222222,\"#7201a8\"],[0.3333333333333333,\"#9c179e\"],[0.4444444444444444,\"#bd3786\"],[0.5555555555555556,\"#d8576b\"],[0.6666666666666666,\"#ed7953\"],[0.7777777777777778,\"#fb9f3a\"],[0.8888888888888888,\"#fdca26\"],[1.0,\"#f0f921\"]],\"diverging\":[[0,\"#8e0152\"],[0.1,\"#c51b7d\"],[0.2,\"#de77ae\"],[0.3,\"#f1b6da\"],[0.4,\"#fde0ef\"],[0.5,\"#f7f7f7\"],[0.6,\"#e6f5d0\"],[0.7,\"#b8e186\"],[0.8,\"#7fbc41\"],[0.9,\"#4d9221\"],[1,\"#276419\"]],\"sequentialminus\":[[0.0,\"#0d0887\"],[0.1111111111111111,\"#46039f\"],[0.2222222222222222,\"#7201a8\"],[0.3333333333333333,\"#9c179e\"],[0.4444444444444444,\"#bd3786\"],[0.5555555555555556,\"#d8576b\"],[0.6666666666666666,\"#ed7953\"],[0.7777777777777778,\"#fb9f3a\"],[0.8888888888888888,\"#fdca26\"],[1.0,\"#f0f921\"]]},\"yaxis\":{\"gridcolor\":\"white\",\"zerolinewidth\":2,\"title\":{\"standoff\":15},\"ticks\":\"\",\"zerolinecolor\":\"white\",\"automargin\":true,\"linecolor\":\"white\"},\"shapedefaults\":{\"line\":{\"color\":\"#2a3f5f\"}},\"font\":{\"color\":\"#2a3f5f\"},\"annotationdefaults\":{\"arrowhead\":0,\"arrowwidth\":1,\"arrowcolor\":\"#2a3f5f\"},\"plot_bgcolor\":\"#E5ECF6\",\"title\":{\"x\":0.05},\"coloraxis\":{\"colorbar\":{\"ticks\":\"\",\"outlinewidth\":0}},\"hoverlabel\":{\"align\":\"left\"},\"mapbox\":{\"style\":\"light\"},\"polar\":{\"angularaxis\":{\"gridcolor\":\"white\",\"ticks\":\"\",\"linecolor\":\"white\"},\"bgcolor\":\"#E5ECF6\",\"radialaxis\":{\"gridcolor\":\"white\",\"ticks\":\"\",\"linecolor\":\"white\"}},\"autotypenumbers\":\"strict\",\"ternary\":{\"aaxis\":{\"gridcolor\":\"white\",\"ticks\":\"\",\"linecolor\":\"white\"},\"bgcolor\":\"#E5ECF6\",\"caxis\":{\"gridcolor\":\"white\",\"ticks\":\"\",\"linecolor\":\"white\"},\"baxis\":{\"gridcolor\":\"white\",\"ticks\":\"\",\"linecolor\":\"white\"}},\"scene\":{\"xaxis\":{\"gridcolor\":\"white\",\"gridwidth\":2,\"backgroundcolor\":\"#E5ECF6\",\"ticks\":\"\",\"showbackground\":true,\"zerolinecolor\":\"white\",\"linecolor\":\"white\"},\"zaxis\":{\"gridcolor\":\"white\",\"gridwidth\":2,\"backgroundcolor\":\"#E5ECF6\",\"ticks\":\"\",\"showbackground\":true,\"zerolinecolor\":\"white\",\"linecolor\":\"white\"},\"yaxis\":{\"gridcolor\":\"white\",\"gridwidth\":2,\"backgroundcolor\":\"#E5ECF6\",\"ticks\":\"\",\"showbackground\":true,\"zerolinecolor\":\"white\",\"linecolor\":\"white\"}},\"colorway\":[\"#636efa\",\"#EF553B\",\"#00cc96\",\"#ab63fa\",\"#FFA15A\",\"#19d3f3\",\"#FF6692\",\"#B6E880\",\"#FF97FF\",\"#FECB52\"]}},\"yaxis4\":{\"domain\":[0.0,0.375],\"anchor\":\"x4\"},\"yaxis3\":{\"domain\":[0.0,0.375],\"anchor\":\"x3\"},\"yaxis\":{\"domain\":[0.625,1.0],\"anchor\":\"x\"},\"yaxis2\":{\"domain\":[0.625,1.0],\"anchor\":\"x2\"},\"xaxis3\":{\"domain\":[0.0,0.45],\"anchor\":\"y3\"},\"xaxis4\":{\"domain\":[0.55,1.0],\"anchor\":\"y4\"},\"xaxis2\":{\"domain\":[0.55,1.0],\"anchor\":\"y2\"},\"annotations\":[{\"yanchor\":\"bottom\",\"xanchor\":\"center\",\"y\":1.0,\"font\":{\"size\":16},\"yref\":\"paper\",\"showarrow\":false,\"text\":\"Wind Offshore\",\"xref\":\"paper\",\"x\":0.225},{\"yanchor\":\"bottom\",\"xanchor\":\"center\",\"y\":1.0,\"font\":{\"size\":16},\"yref\":\"paper\",\"showarrow\":false,\"text\":\"Wind Onshore\",\"xref\":\"paper\",\"x\":0.775},{\"yanchor\":\"bottom\",\"xanchor\":\"center\",\"y\":0.375,\"font\":{\"size\":16},\"yref\":\"paper\",\"showarrow\":false,\"text\":\"Load\",\"xref\":\"paper\",\"x\":0.225},{\"yanchor\":\"bottom\",\"xanchor\":\"center\",\"y\":0.375,\"font\":{\"size\":16},\"yref\":\"paper\",\"showarrow\":false,\"text\":\"PV\",\"xref\":\"paper\",\"x\":0.775}],\"margin\":{\"l\":50,\"b\":50,\"r\":50,\"t\":60}}]}}},\"children\":[{\"props\":{\"id\":\"plot-0fcaedb2-11a7-4f45-a170-d9995f4befa0\"},\"nodeType\":\"DOM\",\"type\":\"node\",\"instanceArgs\":{\"namespace\":\"html\",\"tag\":\"div\"},\"children\":[]}]},\n",
       "        window,\n",
       "    );\n",
       "    })()\n",
       "    </script>\n",
       "</div>\n"
      ],
      "text/plain": [
       "data: [\n",
       "  \"heatmap with fields colorscale, showscale, transpose, type, x, xaxis, y, yaxis, and z\",\n",
       "  \"heatmap with fields colorscale, showscale, transpose, type, x, xaxis, y, yaxis, and z\",\n",
       "  \"heatmap with fields colorscale, showscale, transpose, type, x, xaxis, y, yaxis, and z\",\n",
       "  \"heatmap with fields colorscale, showscale, transpose, type, x, xaxis, y, yaxis, and z\"\n",
       "]\n",
       "\n",
       "layout: \"layout with fields annotations, margin, template, xaxis, xaxis2, xaxis3, xaxis4, yaxis, yaxis2, yaxis3, and yaxis4\"\n",
       "\n"
      ]
     },
     "metadata": {},
     "output_type": "display_data"
    }
   ],
   "source": [
    "p = make_subplots(rows=2, \n",
    "cols=2, \n",
    "subplot_titles= [\"Wind Offshore\" \"Wind Onshore\" \"Load\" \"PV\"]\n",
    ")\n",
    "\n",
    "for (df, i, j, k) in zip(keys(data_org), [1,1,2,2], [1,2,1,2], [true,false,false,false])\n",
    "    z = cor(Matrix(data_org[df]))\n",
    "    add_trace!(p,\n",
    "    heatmap(z=z,\n",
    "    colorscale=\"PdBu\",\n",
    "    showscale=k,\n",
    "    y=names(data_org[df]),\n",
    "    x=names(data_org[df])),\n",
    "    row=i, col=j)\n",
    "end\n",
    "\n",
    "\n",
    "relayout!(p)\n",
    "#TSClustering.format_layout(p=p, max_value=0)\n",
    "p"
   ]
  },
  {
   "cell_type": "code",
   "execution_count": 4,
   "metadata": {},
   "outputs": [
    {
     "data": {
      "text/plain": [
       "\"plot.html\""
      ]
     },
     "metadata": {},
     "output_type": "display_data"
    }
   ],
   "source": [
    "savefig(p, \"plot.html\")"
   ]
  },
  {
   "cell_type": "markdown",
   "metadata": {},
   "source": [
    "## Wind, PV & Load Correlation"
   ]
  },
  {
   "cell_type": "code",
   "execution_count": 8,
   "metadata": {},
   "outputs": [],
   "source": [
    "p = make_subplots(rows=2, \n",
    "cols=2, \n",
    ")\n",
    "\n",
    "for (w, i, j, k) in zip([\"TS_WIND_OFFSHORE_DEEP\" , \"TS_WIND_ONSHORE_AVG\", \"TS_PV_AVG\"], [1,1,2], [1,2,1], [true,false,false])\n",
    "    z = cor(Matrix(data_org[w]), Matrix(data_org[\"TS_LOAD\"]))\n",
    "\n",
    "    add_trace!(p,\n",
    "    heatmap(z=z,\n",
    "    colorscale=\"PdBu\",\n",
    "    showscale=k,\n",
    "    y=names(data_org[w]),\n",
    "    x=names(data_org[w])),\n",
    "    row=i, col=j)\n",
    "end\n",
    "\n",
    "relayout!(p)\n",
    "p\n",
    "\n",
    "# for (i, w) in enumerate([\"TS_WIND_OFFSHORE_DEEP\" , \"TS_WIND_ONSHORE_AVG\", \"TS_PV_AVG\"])\n",
    "#     z = cor(Matrix(data_org[w]), Matrix(data_org[\"TS_LOAD\"]))\n",
    "#     showscale = i == 2 ? true : false\n",
    "\n",
    "#     add_trace!(p,\n",
    "#     heatmap(z=z,\n",
    "#     colorscale=\"PdBu\",\n",
    "#     showscale=showscale,\n",
    "#     y=names(data_org[w]),\n",
    "#     x=names(data_org[w]),\n",
    "#     layout=Layout(\n",
    "#         xaxis=XAxis(title=\"LOAD\"),\n",
    "#         yaxis=YAxis(title=w)\n",
    "#     ),\n",
    "#     ),\n",
    "#     row=1, col=i)\n",
    "# end\n",
    "# relayout!(p)\n",
    "# p"
   ]
  },
  {
   "cell_type": "code",
   "execution_count": null,
   "metadata": {},
   "outputs": [],
   "source": [
    "p = make_subplots(rows=1, \n",
    "cols=3, \n",
    "subplot_titles= [\"TS_WIND_OFFSHORE_DEEP\" \"TS_WIND_OFFSHORE\" \"TS_WIND_OFFSHORE_SHALLOW\"]\n",
    ")\n",
    "\n",
    "\n",
    "for (i, w) in enumerate([\"TS_WIND_OFFSHORE_DEEP\" , \"TS_WIND_OFFSHORE\", \"TS_WIND_OFFSHORE_SHALLOW\"])\n",
    "    z = cor(Matrix(data_org[w]))\n",
    "    showscale = i == 2 ? true : false\n",
    "\n",
    "    add_trace!(p,\n",
    "    heatmap(z=z,\n",
    "    colorscale=\"PdBu\",\n",
    "    showscale=showscale,\n",
    "    y=names(data_org[w]),\n",
    "    x=names(data_org[w])),\n",
    "    row=1, col=i)\n",
    "end\n",
    "relayout!(p)\n",
    "p"
   ]
  },
  {
   "cell_type": "code",
   "execution_count": null,
   "metadata": {},
   "outputs": [],
   "source": [
    "data_org"
   ]
  },
  {
   "cell_type": "markdown",
   "metadata": {},
   "source": [
    "## Correlation clustered technologies "
   ]
  },
  {
   "cell_type": "code",
   "execution_count": null,
   "metadata": {},
   "outputs": [],
   "source": [
    "technologies = [\"TS_LOAD\", \"TS_PV_AVG\", \"TS_HEAT_LOW\", \"TS_WIND_OFFSHORE_SHALLOW\", \"TS_WIND_OFFSHORE\",\"TS_WIND_OFFSHORE_DEEP\" ]\n",
    "\n",
    "m = zeros(8760, length(technologies))\n",
    "for (i,t) in enumerate(technologies)\n",
    "    m[:,i] = data_org[t][:,\"DE\"]\n",
    "end"
   ]
  },
  {
   "cell_type": "code",
   "execution_count": null,
   "metadata": {},
   "outputs": [],
   "source": [
    "p = make_subplots(rows=1, \n",
    "cols=1, \n",
    ")\n",
    "z = cor(m)\n",
    "\n",
    "add_trace!(p,\n",
    "heatmap(z=z,\n",
    "colorscale=\"PdBu\",\n",
    "showscale=true,\n",
    "y=technologies,\n",
    "x=technologies),\n",
    "row=1, col=1)\n",
    "\n",
    "\n",
    "relayout!(p)\n",
    "p"
   ]
  },
  {
   "cell_type": "markdown",
   "metadata": {},
   "source": [
    "frage: hat shallow ein saisonales profil??\n",
    "offshore & deep correlieren mehr mit heat low!!!!!!!!!!"
   ]
  },
  {
   "cell_type": "code",
   "execution_count": null,
   "metadata": {},
   "outputs": [],
   "source": []
  }
 ],
 "metadata": {
  "kernelspec": {
   "display_name": "Julia 1.9.2",
   "language": "julia",
   "name": "julia-1.9"
  },
  "language_info": {
   "file_extension": ".jl",
   "mimetype": "application/julia",
   "name": "julia",
   "version": "1.9.2"
  },
  "orig_nbformat": 4
 },
 "nbformat": 4,
 "nbformat_minor": 2
}
