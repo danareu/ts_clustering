{
 "cells": [
  {
   "cell_type": "code",
   "execution_count": null,
   "metadata": {},
   "outputs": [],
   "source": [
    "using Pkg\n",
    "include(\"/cluster/home/danare/git/Clustering/TSClustering.jl\")\n",
    "cd(\"/cluster/home/danare/git/Clustering\")\n",
    "Pkg.activate(\".\")\n",
    "using .TSClustering\n",
    "using Distances\n",
    "using Clustering\n",
    "using DelimitedFiles\n",
    "using DataFrames\n",
    "using DynamicAxisWarping\n",
    "using Dates\n",
    "using Statistics\n",
    "using CSV\n",
    "using PlotlyJS"
   ]
  },
  {
   "cell_type": "markdown",
   "metadata": {},
   "source": [
    "# Heat Maps for Warping Matrix"
   ]
  },
  {
   "cell_type": "code",
   "execution_count": null,
   "metadata": {},
   "outputs": [],
   "source": [
    "# config\n",
    "path = \"/cluster/home/danare/git/GENeSYS_MOD.data/Output/output_excel/Timeseries.xlsx\"\n",
    "config = \"/cluster/home/danare/git/Clustering/data/config5.yml\"\n",
    "k=6;\n",
    "country = \"DE\";\n",
    "config = TSClustering.read_yaml_file(file=config);"
   ]
  },
  {
   "cell_type": "code",
   "execution_count": null,
   "metadata": {},
   "outputs": [],
   "source": [
    "data_org = TSClustering.read_data(path=path, config=config);\n",
    "data_clustering_org = TSClustering.create_clustering_matrix(config=config, CountryData=data_org);\n",
    "# apply normalization\n",
    "data = TSClustering.normalize_data(CountryData=data_org, config=config);\n",
    "data_clustering = TSClustering.create_clustering_matrix(config=config, CountryData=data);"
   ]
  },
  {
   "cell_type": "code",
   "execution_count": null,
   "metadata": {},
   "outputs": [],
   "source": [
    "eucl = TSClustering.define_distance(w=0, data_clustering=data_clustering, fast_dtw=false);\n",
    "dtw = TSClustering.define_distance(w=1, data_clustering=data_clustering, fast_dtw=false);"
   ]
  },
  {
   "cell_type": "code",
   "execution_count": null,
   "metadata": {},
   "outputs": [],
   "source": [
    "TSClustering.plot_basic_heatmap(matrix=dtw)"
   ]
  },
  {
   "cell_type": "code",
   "execution_count": null,
   "metadata": {},
   "outputs": [],
   "source": [
    "TSClustering.plot_basic_heatmap(matrix=eucl)"
   ]
  },
  {
   "cell_type": "code",
   "execution_count": null,
   "metadata": {},
   "outputs": [],
   "source": [
    "p = make_subplots(rows=2, \n",
    "cols=2, \n",
    "subplot_titles= [\"Wind Offshore\" \"Wind Onshore\" \"Load\" \"PV\"]\n",
    ")\n",
    "\n",
    "for (i, j, k) in zip([], [1,1,2,2], [1,2,1,2], [true,false,false,false])\n",
    "    z = cor(dtw)\n",
    "    add_trace!(p,\n",
    "    heatmap(z=z,\n",
    "    colorscale=\"PdBu\",\n",
    "    showscale=k,\n",
    "    y=names(data_org[df]),\n",
    "    x=names(data_org[df])),\n",
    "    row=i, col=j)\n",
    "end\n",
    "\n",
    "\n",
    "relayout!(p)\n",
    "TSClustering.format_layout(p=p, max_value=0)\n",
    "p"
   ]
  },
  {
   "cell_type": "code",
   "execution_count": null,
   "metadata": {},
   "outputs": [],
   "source": [
    "#x1 = create_clustering_matrix(time_series1=data[\"LOAD\"][:,\"DE\"], distance=\"Euclidean\");\n",
    "#x2 = create_clustering_matrix(time_series1=data[\"WIND_ONSHORE_AVG\"][:,\"DE\"], distance=\"Euclidean\");\n",
    "#x3 = create_clustering_matrix(time_series1=data[\"PV_AVG\"][:,\"DE\"], distance=\"Euclidean\");\n",
    "#x4 = create_clustering_matrix(time_series1=data[\"WIND_OFFSHORE_SHALLOW\"][:,\"DE\"], distance=\"Euclidean\");\n",
    "y1 = TSClustering.define_distance(w=w,data_clustering=data_clustering, fast_dtw=false);\n",
    "y2 = TSClustering.define_distance(w=w,data_clustering=data[\"WIND_ONSHORE_AVG\"][:,\"DE\"], fast_dtw=false);\n",
    "y3 = TSClustering.define_distance(w=w,data_clustering=data[\"PV_AVG\"][:,\"DE\"], fast_dtw=false);\n",
    "y4 = TSClustering.define_distance(w=w,data_clustering=data[\"WIND_OFFSHORE_SHALLOW\"][:,\"DE\"], fast_dtw=false);"
   ]
  },
  {
   "cell_type": "code",
   "execution_count": null,
   "metadata": {},
   "outputs": [],
   "source": [
    "dtw"
   ]
  },
  {
   "cell_type": "code",
   "execution_count": null,
   "metadata": {},
   "outputs": [],
   "source": [
    "p = PlotlyJS.make_subplots(rows=2, \n",
    "cols=2, \n",
    "vertical_spacing=0.02,\n",
    "subplot_titles = [\"LOAD\" \"PV\"; \"WindON\" \"WIND OFF\"]\n",
    ")\n",
    "\n",
    "for (w,i) in zip([x1,x2,x3,x4], [(1,1), (1,2), (2,1), (2,2)])\n",
    "    add_trace!(p,\n",
    "    PlotlyJS.heatmap(z=w,\n",
    "    y=1:365,\n",
    "    x=1:365),\n",
    "    row=i[1], col=i[2])\n",
    "end\n",
    "\n",
    "\n",
    "relayout!(p)\n",
    "p"
   ]
  },
  {
   "cell_type": "code",
   "execution_count": null,
   "metadata": {},
   "outputs": [],
   "source": [
    "PlotlyJS.savefig(p, \"eucl.html\")"
   ]
  },
  {
   "cell_type": "code",
   "execution_count": null,
   "metadata": {},
   "outputs": [],
   "source": [
    "p = PlotlyJS.make_subplots(rows=2, \n",
    "cols=2, \n",
    "vertical_spacing=0.02,\n",
    "subplot_titles = [\"LOAD\" \"PV\"; \"WindON\" \"WIND OFF\"]\n",
    ")\n",
    "\n",
    "for (w,i) in zip([y1,y2,y3,y4], [(1,1), (1,2), (2,1), (2,2)])\n",
    "    add_trace!(p,\n",
    "    PlotlyJS.heatmap(z=w,\n",
    "    y=1:365,\n",
    "    x=1:365),\n",
    "    row=i[1], col=i[2])\n",
    "end\n",
    "\n",
    "\n",
    "relayout!(p)\n",
    "p"
   ]
  },
  {
   "cell_type": "code",
   "execution_count": null,
   "metadata": {},
   "outputs": [],
   "source": [
    "PlotlyJS.savefig(p, \"dtw.html\")"
   ]
  },
  {
   "cell_type": "code",
   "execution_count": null,
   "metadata": {},
   "outputs": [],
   "source": [
    "cost, a,b = dtw(data[\"LOAD\"][1:24,\"DE\"],data[\"LOAD\"][25:48,\"DE\"], Euclidean())\n",
    "a"
   ]
  },
  {
   "cell_type": "code",
   "execution_count": null,
   "metadata": {},
   "outputs": [],
   "source": [
    "b"
   ]
  },
  {
   "cell_type": "code",
   "execution_count": null,
   "metadata": {},
   "outputs": [],
   "source": [
    "y1[2,1]"
   ]
  },
  {
   "cell_type": "markdown",
   "metadata": {},
   "source": [
    "## Find Cost Delta"
   ]
  },
  {
   "cell_type": "code",
   "execution_count": null,
   "metadata": {},
   "outputs": [],
   "source": [
    "for (i,j,n) in zip([x1,x2,x3,x4], [y1,y2,y3,y4], [\"LOAD\", \"Windon\", \"PV\", \"Windoff\"])\n",
    "    println(\"$n the delta is $(sum(j)-sum(i))\")\n",
    "end"
   ]
  },
  {
   "cell_type": "markdown",
   "metadata": {},
   "source": []
  }
 ],
 "metadata": {
  "kernelspec": {
   "display_name": "Julia 1.9.2",
   "language": "julia",
   "name": "julia-1.9"
  },
  "language_info": {
   "file_extension": ".jl",
   "mimetype": "application/julia",
   "name": "julia",
   "version": "1.9.2"
  },
  "orig_nbformat": 4
 },
 "nbformat": 4,
 "nbformat_minor": 2
}
