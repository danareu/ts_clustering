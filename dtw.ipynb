{
 "cells": [
  {
   "cell_type": "code",
   "execution_count": 1,
   "metadata": {},
   "outputs": [
    {
     "name": "stderr",
     "output_type": "stream",
     "text": [
      "Invalid instruction at 0x14621ab73559: 0x62, 0xf2, 0xfd, 0x28, 0x7c, 0xc9, 0x62, 0xf2, 0xfd, 0x28, 0x7c, 0xd7, 0x62, 0xf2, 0xfd\n",
      "\n",
      "[3031442] signal (4.2): Illegal instruction\n",
      "in expression starting at none:1\n",
      "_mapreduce at ./reduce.jl:436 [inlined]\n",
      "_mapreduce_dim at ./reducedim.jl:365 [inlined]\n",
      "#mapreduce#800 at ./reducedim.jl:357 [inlined]\n",
      "mapreduce at ./reducedim.jl:357 [inlined]\n",
      "#_extrema#826 at ./reducedim.jl:999 [inlined]\n",
      "_extrema at ./reducedim.jl:999 [inlined]\n",
      "#_extrema#825 at ./reducedim.jl:998 [inlined]\n",
      "_extrema at ./reducedim.jl:998 [inlined]\n",
      "#extrema#823 at ./reducedim.jl:994 [inlined]\n",
      "extrema at ./reducedim.jl:994 [inlined]\n",
      "create_grid_vcat at /cluster/home/danare/.julia/packages/RecipesBase/BRe07/src/RecipesBase.jl:502\n",
      "create_grid at /cluster/home/danare/.julia/packages/RecipesBase/BRe07/src/RecipesBase.jl:485\n",
      "jfptr_create_grid_196 at /cluster/home/danare/.julia/compiled/v1.9/RecipesBase/8e2Mm_PPaza.so (unknown line)\n",
      "_jl_invoke at /cache/build/default-amdci5-2/julialang/julia-release-1-dot-9/src/gf.c:2758 [inlined]\n",
      "ijl_apply_generic at /cache/build/default-amdci5-2/julialang/julia-release-1-dot-9/src/gf.c:2940\n",
      "@layout at /cluster/home/danare/.julia/packages/RecipesBase/BRe07/src/RecipesBase.jl:596\n",
      "jl_invoke_julia_macro at /cache/build/default-amdci5-2/julialang/julia-release-1-dot-9/src/ast.c:1036\n",
      "jl_expand_macros at /cache/build/default-amdci5-2/julialang/julia-release-1-dot-9/src/ast.c:1092\n",
      "jl_expand_macros at /cache/build/default-amdci5-2/julialang/julia-release-1-dot-9/src/ast.c:1135\n",
      "jl_expand_macros at /cache/build/default-amdci5-2/julialang/julia-release-1-dot-9/src/ast.c:1135\n",
      "jl_expand_macros at /cache/build/default-amdci5-2/julialang/julia-release-1-dot-9/src/ast.c:1135\n",
      "jl_expand_macros at /cache/build/default-amdci5-2/julialang/julia-release-1-dot-9/src/ast.c:1135\n",
      "jl_expand_macros at /cache/build/default-amdci5-2/julialang/julia-release-1-dot-9/src/ast.c:1135\n",
      "jl_expand_macros at /cache/build/default-amdci5-2/julialang/julia-release-1-dot-9/src/ast.c:1135\n",
      "jl_expand_macros at /cache/build/default-amdci5-2/julialang/julia-release-1-dot-9/src/ast.c:1135\n",
      "jl_expand_macros at /cache/build/default-amdci5-2/julialang/julia-release-1-dot-9/src/ast.c:1135\n",
      "jl_expand_macros at /cache/build/default-amdci5-2/julialang/julia-release-1-dot-9/src/ast.c:1135\n",
      "ijl_expand_with_loc_warn at /cache/build/default-amdci5-2/julialang/julia-release-1-dot-9/src/ast.c:1198\n",
      "jl_toplevel_eval_flex at /cache/build/default-amdci5-2/julialang/julia-release-1-dot-9/src/toplevel.c:709\n",
      "ijl_toplevel_eval_in at /cache/build/default-amdci5-2/julialang/julia-release-1-dot-9/src/toplevel.c:971\n",
      "eval at ./boot.jl:370 [inlined]\n",
      "eval at /cluster/home/danare/.julia/packages/Plots/sxUvK/src/Plots.jl:1 [inlined]\n",
      "_broadcast_getindex_evalf at ./broadcast.jl:683 [inlined]\n",
      "_broadcast_getindex at ./broadcast.jl:656 [inlined]\n",
      "getindex at ./broadcast.jl:610 [inlined]\n",
      "copyto_nonleaf! at ./broadcast.jl:1068\n",
      "unknown function (ip: 0x14621faa014b)\n",
      "_jl_invoke at /cache/build/default-amdci5-2/julialang/julia-release-1-dot-9/src/gf.c:2758 [inlined]\n",
      "ijl_apply_generic at /cache/build/default-amdci5-2/julialang/julia-release-1-dot-9/src/gf.c:2940\n",
      "copy at ./broadcast.jl:920 [inlined]\n",
      "materialize at ./broadcast.jl:873\n",
      "unknown function (ip: 0x14621fa9f8b2)\n",
      "_jl_invoke at /cache/build/default-amdci5-2/julialang/julia-release-1-dot-9/src/gf.c:2758 [inlined]\n",
      "ijl_apply_generic at /cache/build/default-amdci5-2/julialang/julia-release-1-dot-9/src/gf.c:2940\n",
      "macro expansion at /cluster/home/danare/.julia/packages/Plots/sxUvK/src/init.jl:126 [inlined]\n",
      "macro expansion at /cluster/home/danare/.julia/packages/PrecompileTools/kmH5L/src/workloads.jl:78 [inlined]\n",
      "#557 at /cluster/home/danare/.julia/packages/Plots/sxUvK/src/init.jl:123\n",
      "withenv at ./env.jl:197\n",
      "unknown function (ip: 0x14621fa9eae3)\n",
      "_jl_invoke at /cache/build/default-amdci5-2/julialang/julia-release-1-dot-9/src/gf.c:2758 [inlined]\n",
      "ijl_apply_generic at /cache/build/default-amdci5-2/julialang/julia-release-1-dot-9/src/gf.c:2940\n",
      "macro expansion at /cluster/home/danare/.julia/packages/Plots/sxUvK/src/init.jl:122 [inlined]\n",
      "top-level scope at /cluster/home/danare/.julia/packages/PrecompileTools/kmH5L/src/workloads.jl:140\n",
      "jl_toplevel_eval_flex at /cache/build/default-amdci5-2/julialang/julia-release-1-dot-9/src/toplevel.c:903\n",
      "jl_toplevel_eval_flex at /cache/build/default-amdci5-2/julialang/julia-release-1-dot-9/src/toplevel.c:856\n",
      "ijl_toplevel_eval_in at /cache/build/default-amdci5-2/julialang/julia-release-1-dot-9/src/toplevel.c:971\n",
      "eval at ./boot.jl:370 [inlined]\n",
      "include_string at ./loading.jl:1903\n",
      "_jl_invoke at /cache/build/default-amdci5-2/julialang/julia-release-1-dot-9/src/gf.c:2758 [inlined]\n",
      "ijl_apply_generic at /cache/build/default-amdci5-2/julialang/julia-release-1-dot-9/src/gf.c:2940\n",
      "_include at ./loading.jl:1963\n",
      "include at ./Base.jl:457\n",
      "jfptr_include_32440.clone_1 at /cluster/home/danare/.conda/envs/julia-1.9.2/lib/julia/sys.so (unknown line)\n",
      "_jl_invoke at /cache/build/default-amdci5-2/julialang/julia-release-1-dot-9/src/gf.c:2758 [inlined]\n",
      "ijl_apply_generic at /cache/build/default-amdci5-2/julialang/julia-release-1-dot-9/src/gf.c:2940\n",
      "jl_apply at /cache/build/default-amdci5-2/julialang/julia-release-1-dot-9/src/julia.h:1879 [inlined]\n",
      "jl_f__call_latest at /cache/build/default-amdci5-2/julialang/julia-release-1-dot-9/src/builtins.c:774\n",
      "include at /cluster/home/danare/.julia/packages/Plots/sxUvK/src/Plots.jl:1\n",
      "unknown function (ip: 0x14621fa02982)\n",
      "_jl_invoke at /cache/build/default-amdci5-2/julialang/julia-release-1-dot-9/src/gf.c:2758 [inlined]\n",
      "ijl_apply_generic at /cache/build/default-amdci5-2/julialang/julia-release-1-dot-9/src/gf.c:2940\n",
      "jl_apply at /cache/build/default-amdci5-2/julialang/julia-release-1-dot-9/src/julia.h:1879 [inlined]\n",
      "do_call at /cache/build/default-amdci5-2/julialang/julia-release-1-dot-9/src/interpreter.c:126\n",
      "eval_value at /cache/build/default-amdci5-2/julialang/julia-release-1-dot-9/src/interpreter.c:226\n",
      "eval_stmt_value at /cache/build/default-amdci5-2/julialang/julia-release-1-dot-9/src/interpreter.c:177 [inlined]\n",
      "eval_body at /cache/build/default-amdci5-2/julialang/julia-release-1-dot-9/src/interpreter.c:624\n",
      "jl_interpret_toplevel_thunk at /cache/build/default-amdci5-2/julialang/julia-release-1-dot-9/src/interpreter.c:762\n",
      "jl_toplevel_eval_flex at /cache/build/default-amdci5-2/julialang/julia-release-1-dot-9/src/toplevel.c:912\n",
      "jl_eval_module_expr at /cache/build/default-amdci5-2/julialang/julia-release-1-dot-9/src/toplevel.c:203 [inlined]\n",
      "jl_toplevel_eval_flex at /cache/build/default-amdci5-2/julialang/julia-release-1-dot-9/src/toplevel.c:715\n",
      "jl_toplevel_eval_flex at /cache/build/default-amdci5-2/julialang/julia-release-1-dot-9/src/toplevel.c:856\n",
      "ijl_toplevel_eval_in at /cache/build/default-amdci5-2/julialang/julia-release-1-dot-9/src/toplevel.c:971\n",
      "eval at ./boot.jl:370 [inlined]\n",
      "include_string at ./loading.jl:1903\n",
      "_jl_invoke at /cache/build/default-amdci5-2/julialang/julia-release-1-dot-9/src/gf.c:2758 [inlined]\n",
      "ijl_apply_generic at /cache/build/default-amdci5-2/julialang/julia-release-1-dot-9/src/gf.c:2940\n",
      "_include at ./loading.jl:1963\n",
      "include at ./Base.jl:457 [inlined]\n",
      "include_package_for_output at ./loading.jl:2049\n",
      "jfptr_include_package_for_output_41323.clone_1 at /cluster/home/danare/.conda/envs/julia-1.9.2/lib/julia/sys.so (unknown line)\n",
      "_jl_invoke at /cache/build/default-amdci5-2/julialang/julia-release-1-dot-9/src/gf.c:2758 [inlined]\n",
      "ijl_apply_generic at /cache/build/default-amdci5-2/julialang/julia-release-1-dot-9/src/gf.c:2940\n",
      "jl_apply at /cache/build/default-amdci5-2/julialang/julia-release-1-dot-9/src/julia.h:1879 [inlined]\n",
      "do_call at /cache/build/default-amdci5-2/julialang/julia-release-1-dot-9/src/interpreter.c:126\n",
      "eval_value at /cache/build/default-amdci5-2/julialang/julia-release-1-dot-9/src/interpreter.c:226\n",
      "eval_stmt_value at /cache/build/default-amdci5-2/julialang/julia-release-1-dot-9/src/interpreter.c:177 [inlined]\n",
      "eval_body at /cache/build/default-amdci5-2/julialang/julia-release-1-dot-9/src/interpreter.c:624\n",
      "jl_interpret_toplevel_thunk at /cache/build/default-amdci5-2/julialang/julia-release-1-dot-9/src/interpreter.c:762\n",
      "jl_toplevel_eval_flex at /cache/build/default-amdci5-2/julialang/julia-release-1-dot-9/src/toplevel.c:912\n",
      "jl_toplevel_eval_flex at /cache/build/default-amdci5-2/julialang/julia-release-1-dot-9/src/toplevel.c:856\n",
      "ijl_toplevel_eval_in at /cache/build/default-amdci5-2/julialang/julia-release-1-dot-9/src/toplevel.c:971\n",
      "eval at ./boot.jl:370 [inlined]\n",
      "include_string at ./loading.jl:1903\n",
      "include_string at ./loading.jl:1913 [inlined]\n",
      "exec_options at ./client.jl:305\n",
      "_start at ./client.jl:522\n",
      "jfptr__start_43375.clone_1 at /cluster/home/danare/.conda/envs/julia-1.9.2/lib/julia/sys.so (unknown line)\n",
      "_jl_invoke at /cache/build/default-amdci5-2/julialang/julia-release-1-dot-9/src/gf.c:2758 [inlined]\n",
      "ijl_apply_generic at /cache/build/default-amdci5-2/julialang/julia-release-1-dot-9/src/gf.c:2940\n",
      "jl_apply at /cache/build/default-amdci5-2/julialang/julia-release-1-dot-9/src/julia.h:1879 [inlined]\n",
      "true_main at /cache/build/default-amdci5-2/julialang/julia-release-1-dot-9/src/jlapi.c:573\n",
      "jl_repl_entrypoint at /cache/build/default-amdci5-2/julialang/julia-release-1-dot-9/src/jlapi.c:717\n",
      "main at /cache/build/default-amdci5-2/julialang/julia-release-1-dot-9/cli/loader_exe.c:59\n",
      "__libc_start_call_main at /lib64/libc.so.6 (unknown line)\n",
      "__libc_start_main at /lib64/libc.so.6 (unknown line)\n",
      "unknown function (ip: 0x401098)\n",
      "Allocations: 76532471 (Pool: 76485320; Big: 47151); GC: 107\n"
     ]
    },
    {
     "ename": "ErrorException",
     "evalue": "Failed to precompile Plots [91a5bcdd-55d7-5caf-9e0b-520d859cae80] to \"/cluster/home/danare/.julia/compiled/v1.9/Plots/jl_7ckAWF\".",
     "output_type": "error",
     "traceback": [
      "Failed to precompile Plots [91a5bcdd-55d7-5caf-9e0b-520d859cae80] to \"/cluster/home/danare/.julia/compiled/v1.9/Plots/jl_7ckAWF\".\n",
      "\n",
      "Stacktrace:\n",
      "  [1] error(s::String)\n",
      "    @ Base ./error.jl:35\n",
      "  [2] compilecache(pkg::Base.PkgId, path::String, internal_stderr::IO, internal_stdout::IO, keep_loaded_modules::Bool)\n",
      "    @ Base ./loading.jl:2300\n",
      "  [3] compilecache\n",
      "    @ ./loading.jl:2167 [inlined]\n",
      "  [4] _require(pkg::Base.PkgId, env::String)\n",
      "    @ Base ./loading.jl:1805\n",
      "  [5] _require_prelocked(uuidkey::Base.PkgId, env::String)\n",
      "    @ Base ./loading.jl:1660\n",
      "  [6] macro expansion\n",
      "    @ ./loading.jl:1648 [inlined]\n",
      "  [7] macro expansion\n",
      "    @ ./lock.jl:267 [inlined]\n",
      "  [8] require(into::Module, mod::Symbol)\n",
      "    @ Base ./loading.jl:1611\n",
      "  [9] eval\n",
      "    @ ./boot.jl:370 [inlined]\n",
      " [10] include_string(mapexpr::typeof(REPL.softscope), mod::Module, code::String, filename::String)\n",
      "    @ Base ./loading.jl:1903\n",
      " [11] #invokelatest#2\n",
      "    @ ./essentials.jl:816 [inlined]\n",
      " [12] invokelatest\n",
      "    @ ./essentials.jl:813 [inlined]\n",
      " [13] (::VSCodeServer.var\"#219#220\"{VSCodeServer.NotebookRunCellArguments, String})()\n",
      "    @ VSCodeServer ~/.local/share/code-server/extensions/julialang.language-julia-1.79.2-universal/scripts/packages/VSCodeServer/src/serve_notebook.jl:19\n",
      " [14] withpath(f::VSCodeServer.var\"#219#220\"{VSCodeServer.NotebookRunCellArguments, String}, path::String)\n",
      "    @ VSCodeServer ~/.local/share/code-server/extensions/julialang.language-julia-1.79.2-universal/scripts/packages/VSCodeServer/src/repl.jl:276\n",
      " [15] notebook_runcell_request(conn::VSCodeServer.JSONRPC.JSONRPCEndpoint{Base.PipeEndpoint, Base.PipeEndpoint}, params::VSCodeServer.NotebookRunCellArguments)\n",
      "    @ VSCodeServer ~/.local/share/code-server/extensions/julialang.language-julia-1.79.2-universal/scripts/packages/VSCodeServer/src/serve_notebook.jl:13\n",
      " [16] dispatch_msg(x::VSCodeServer.JSONRPC.JSONRPCEndpoint{Base.PipeEndpoint, Base.PipeEndpoint}, dispatcher::VSCodeServer.JSONRPC.MsgDispatcher, msg::Dict{String, Any})\n",
      "    @ VSCodeServer.JSONRPC ~/.local/share/code-server/extensions/julialang.language-julia-1.79.2-universal/scripts/packages/JSONRPC/src/typed.jl:67\n",
      " [17] serve_notebook(pipename::String, outputchannel_logger::Base.CoreLogging.SimpleLogger; crashreporting_pipename::String)\n",
      "    @ VSCodeServer ~/.local/share/code-server/extensions/julialang.language-julia-1.79.2-universal/scripts/packages/VSCodeServer/src/serve_notebook.jl:139\n",
      " [18] top-level scope\n",
      "    @ ~/.local/share/code-server/extensions/julialang.language-julia-1.79.2-universal/scripts/notebook/notebook.jl:35"
     ]
    }
   ],
   "source": [
    "using Pkg\n",
    "#Pkg.add(\"using DelimitedFiles\")\n",
    "using DynamicAxisWarping, Plots\n",
    "using Distances\n",
    "using DelimitedFiles\n",
    "include(\"./TSClustering.jl\")\n",
    "cd(\"/cluster/home/danare/git/Clustering\")\n",
    "Pkg.activate(\".\")\n",
    "using PlotlyJS\n",
    "using Plots\n",
    "using .TSClustering"
   ]
  },
  {
   "cell_type": "code",
   "execution_count": 2,
   "metadata": {},
   "outputs": [],
   "source": [
    "# config\n",
    "path = \"/cluster/home/danare/git/Clustering/data/Hourly_Data_Europe_v13_kl_13_12_2023_windDataWP1.xlsx\";\n",
    "k=6;\n",
    "country = \"DE\";"
   ]
  },
  {
   "cell_type": "code",
   "execution_count": 3,
   "metadata": {},
   "outputs": [
    {
     "ename": "UndefVarError",
     "evalue": "UndefVarError: `TSClustering` not defined",
     "output_type": "error",
     "traceback": [
      "UndefVarError: `TSClustering` not defined\n",
      "\n",
      "Stacktrace:\n",
      " [1] top-level scope\n",
      "   @ ~/git/Clustering/dtw.ipynb:2"
     ]
    }
   ],
   "source": [
    "# read in datap\n",
    "config = TSClustering.read_yaml_file()\n",
    "data = TSClustering.read_data(path=path, normalize=false, config=config);\n",
    "#data_clustering = TSClustering.create_clustering_matrix(config=config, CountryData=data);\n",
    "data"
   ]
  },
  {
   "cell_type": "code",
   "execution_count": 4,
   "metadata": {},
   "outputs": [
    {
     "data": {
      "text/plain": [
       "create_clustering_matrix (generic function with 1 method)"
      ]
     },
     "metadata": {},
     "output_type": "display_data"
    }
   ],
   "source": [
    "function create_clustering_matrix(; time_series1, time_series2)\n",
    "   \n",
    "    len1 = length(time_series1)\n",
    "    len2 = length(time_series2)\n",
    "    \n",
    "    # Initialize a matrix to store distances\n",
    "    distance_matrix = zeros(Float64, len1, len2)\n",
    "    \n",
    "    for i in 1:len1\n",
    "        for j in 1:len2\n",
    "            # Calculate Euclidean distance between points (i, j)\n",
    "            distance_matrix[i, j] = euclidean(time_series1[i], time_series2[j])\n",
    "        end\n",
    "    end\n",
    "    return distance_matrix\n",
    "end"
   ]
  },
  {
   "cell_type": "code",
   "execution_count": 5,
   "metadata": {},
   "outputs": [
    {
     "ename": "UndefVarError",
     "evalue": "UndefVarError: `data` not defined",
     "output_type": "error",
     "traceback": [
      "UndefVarError: `data` not defined\n",
      "\n",
      "Stacktrace:\n",
      " [1] top-level scope\n",
      "   @ ~/git/Clustering/dtw.ipynb:4"
     ]
    }
   ],
   "source": [
    "type = \"WIND_OFFSHORE_SHALLOW\"\n",
    "region = \"DE\"\n",
    "\n",
    "time_series1=data[type][1:24,region]\n",
    "time_series2=data[type][25:48,region]\n",
    "distance_matrix = create_clustering_matrix(time_series1=time_series1, time_series2=time_series2)"
   ]
  },
  {
   "cell_type": "code",
   "execution_count": 6,
   "metadata": {},
   "outputs": [
    {
     "ename": "UndefVarError",
     "evalue": "UndefVarError: `gr` not defined",
     "output_type": "error",
     "traceback": [
      "UndefVarError: `gr` not defined\n",
      "\n",
      "Stacktrace:\n",
      " [1] top-level scope\n",
      "   @ ~/git/Clustering/dtw.ipynb:1"
     ]
    }
   ],
   "source": [
    "gr()\n",
    "Plots.heatmap(1:24,\n",
    "    1:24, distance_matrix[1:24,1:24])"
   ]
  },
  {
   "cell_type": "code",
   "execution_count": 7,
   "metadata": {},
   "outputs": [
    {
     "ename": "UndefVarError",
     "evalue": "UndefVarError: `time_series1` not defined",
     "output_type": "error",
     "traceback": [
      "UndefVarError: `time_series1` not defined\n",
      "\n",
      "Stacktrace:\n",
      " [1] top-level scope\n",
      "   @ ~/git/Clustering/dtw.ipynb:1"
     ]
    }
   ],
   "source": [
    "cost, pa, pb = dtw(time_series1,time_series2,Euclidean())"
   ]
  },
  {
   "cell_type": "code",
   "execution_count": 8,
   "metadata": {},
   "outputs": [
    {
     "ename": "UndefVarError",
     "evalue": "UndefVarError: `distance_matrix` not defined",
     "output_type": "error",
     "traceback": [
      "UndefVarError: `distance_matrix` not defined\n",
      "\n",
      "Stacktrace:\n",
      " [1] top-level scope\n",
      "   @ ~/git/Clustering/dtw.ipynb:1"
     ]
    }
   ],
   "source": [
    "TSClustering.plot_dtw_heatmaps(matrix=distance_matrix, x=pb, y=pa)"
   ]
  },
  {
   "cell_type": "code",
   "execution_count": 9,
   "metadata": {},
   "outputs": [
    {
     "ename": "UndefVarError",
     "evalue": "UndefVarError: `time_series1` not defined",
     "output_type": "error",
     "traceback": [
      "UndefVarError: `time_series1` not defined\n",
      "\n",
      "Stacktrace:\n",
      " [1] top-level scope\n",
      "   @ ~/git/Clustering/dtw.ipynb:1"
     ]
    }
   ],
   "source": [
    "TSClustering.plot_time_series_dtw(ts1=time_series1,ts2=time_series2)"
   ]
  },
  {
   "cell_type": "code",
   "execution_count": 10,
   "metadata": {},
   "outputs": [],
   "source": []
  }
 ],
 "metadata": {
  "kernelspec": {
   "display_name": "Julia 1.9.2",
   "language": "julia",
   "name": "julia-1.9"
  },
  "language_info": {
   "file_extension": ".jl",
   "mimetype": "application/julia",
   "name": "julia",
   "version": "1.9.2"
  },
  "orig_nbformat": 4
 },
 "nbformat": 4,
 "nbformat_minor": 2
}
